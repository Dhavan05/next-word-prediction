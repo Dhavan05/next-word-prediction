{
  "cells": [
    {
      "cell_type": "code",
      "execution_count": null,
      "id": "afaac20a-36a1-42a9-9472-b97ff8482efd",
      "metadata": {
        "id": "afaac20a-36a1-42a9-9472-b97ff8482efd"
      },
      "outputs": [],
      "source": [
        "import pandas as pd\n",
        "import numpy as np\n",
        "\n",
        "#library that contains punctuation\n",
        "import string\n",
        "#importing nlp library\n",
        "import nltk"
      ]
    },
    {
      "cell_type": "markdown",
      "id": "5ace8837-19ba-4cc9-9cd1-829ee34839f0",
      "metadata": {
        "id": "5ace8837-19ba-4cc9-9cd1-829ee34839f0"
      },
      "source": [
        "## Read data from file"
      ]
    },
    {
      "cell_type": "code",
      "execution_count": null,
      "id": "823f8952-9820-4d7a-88e3-324c73c3467c",
      "metadata": {
        "id": "823f8952-9820-4d7a-88e3-324c73c3467c",
        "outputId": "140aeae2-e5fc-4ccd-d4c7-de203c2e296d"
      },
      "outputs": [
        {
          "name": "stderr",
          "output_type": "stream",
          "text": [
            "<ipython-input-2-239e28e3db2d>:1: ParserWarning: Falling back to the 'python' engine because the 'c' engine does not support regex separators (separators > 1 char and different from '\\s+' are interpreted as regex); you can avoid this warning by specifying engine='python'.\n",
            "  chunks = pd.read_csv('train_v2.txt', sep=\"\\ \\[?.!]\", chunksize = 10000, header=None)\n"
          ]
        }
      ],
      "source": [
        "chunks = pd.read_csv('train_v2.txt', sep=\"\\ \\[?.!]\", chunksize = 10000, header=None)"
      ]
    },
    {
      "cell_type": "code",
      "execution_count": null,
      "id": "be9b265a-7b90-4910-9d85-8a5e798bcf2d",
      "metadata": {
        "id": "be9b265a-7b90-4910-9d85-8a5e798bcf2d",
        "outputId": "2eecebd1-0b0d-404f-dc37-8286644e077a"
      },
      "outputs": [
        {
          "data": {
            "text/html": [
              "<div>\n",
              "<style scoped>\n",
              "    .dataframe tbody tr th:only-of-type {\n",
              "        vertical-align: middle;\n",
              "    }\n",
              "\n",
              "    .dataframe tbody tr th {\n",
              "        vertical-align: top;\n",
              "    }\n",
              "\n",
              "    .dataframe thead th {\n",
              "        text-align: right;\n",
              "    }\n",
              "</style>\n",
              "<table border=\"1\" class=\"dataframe\">\n",
              "  <thead>\n",
              "    <tr style=\"text-align: right;\">\n",
              "      <th></th>\n",
              "      <th>0</th>\n",
              "    </tr>\n",
              "  </thead>\n",
              "  <tbody>\n",
              "    <tr>\n",
              "      <th>0</th>\n",
              "      <td>The U.S. Centers for Disease Control and Preve...</td>\n",
              "    </tr>\n",
              "    <tr>\n",
              "      <th>1</th>\n",
              "      <td>When Ms. Winfrey invited Suzanne Somers to sha...</td>\n",
              "    </tr>\n",
              "    <tr>\n",
              "      <th>2</th>\n",
              "      <td>Elk calling -- a skill that hunters perfected ...</td>\n",
              "    </tr>\n",
              "    <tr>\n",
              "      <th>3</th>\n",
              "      <td>Don 't !</td>\n",
              "    </tr>\n",
              "    <tr>\n",
              "      <th>4</th>\n",
              "      <td>Fish , ranked 98th in the world , fired 22 ace...</td>\n",
              "    </tr>\n",
              "    <tr>\n",
              "      <th>...</th>\n",
              "      <td>...</td>\n",
              "    </tr>\n",
              "    <tr>\n",
              "      <th>9995</th>\n",
              "      <td>A year ago all 25m recipients of child benefit...</td>\n",
              "    </tr>\n",
              "    <tr>\n",
              "      <th>9996</th>\n",
              "      <td>Regulators have to monitor the situation until...</td>\n",
              "    </tr>\n",
              "    <tr>\n",
              "      <th>9997</th>\n",
              "      <td>The most stable nuclei occur when the outermos...</td>\n",
              "    </tr>\n",
              "    <tr>\n",
              "      <th>9998</th>\n",
              "      <td>Women and men must be equal partners for 21st ...</td>\n",
              "    </tr>\n",
              "    <tr>\n",
              "      <th>9999</th>\n",
              "      <td>Worcester 's director of rugby , Mike Ruddock ...</td>\n",
              "    </tr>\n",
              "  </tbody>\n",
              "</table>\n",
              "<p>10000 rows × 1 columns</p>\n",
              "</div>"
            ],
            "text/plain": [
              "                                                      0\n",
              "0     The U.S. Centers for Disease Control and Preve...\n",
              "1     When Ms. Winfrey invited Suzanne Somers to sha...\n",
              "2     Elk calling -- a skill that hunters perfected ...\n",
              "3                                              Don 't !\n",
              "4     Fish , ranked 98th in the world , fired 22 ace...\n",
              "...                                                 ...\n",
              "9995  A year ago all 25m recipients of child benefit...\n",
              "9996  Regulators have to monitor the situation until...\n",
              "9997  The most stable nuclei occur when the outermos...\n",
              "9998  Women and men must be equal partners for 21st ...\n",
              "9999  Worcester 's director of rugby , Mike Ruddock ...\n",
              "\n",
              "[10000 rows x 1 columns]"
            ]
          },
          "execution_count": 3,
          "metadata": {},
          "output_type": "execute_result"
        }
      ],
      "source": [
        "# get 1st chunk of size 10000\n",
        "df = chunks.get_chunk(10000)\n",
        "df"
      ]
    },
    {
      "cell_type": "code",
      "execution_count": null,
      "id": "14105ec6-1bc8-49df-907a-e3b45477c3d0",
      "metadata": {
        "id": "14105ec6-1bc8-49df-907a-e3b45477c3d0",
        "outputId": "e91788e8-48f8-497c-8644-63f2d949fd9a"
      },
      "outputs": [
        {
          "data": {
            "text/html": [
              "<div>\n",
              "<style scoped>\n",
              "    .dataframe tbody tr th:only-of-type {\n",
              "        vertical-align: middle;\n",
              "    }\n",
              "\n",
              "    .dataframe tbody tr th {\n",
              "        vertical-align: top;\n",
              "    }\n",
              "\n",
              "    .dataframe thead th {\n",
              "        text-align: right;\n",
              "    }\n",
              "</style>\n",
              "<table border=\"1\" class=\"dataframe\">\n",
              "  <thead>\n",
              "    <tr style=\"text-align: right;\">\n",
              "      <th></th>\n",
              "      <th>0</th>\n",
              "    </tr>\n",
              "  </thead>\n",
              "  <tbody>\n",
              "    <tr>\n",
              "      <th>10000</th>\n",
              "      <td>UnitedHealth 's Simon Stevens said the suggest...</td>\n",
              "    </tr>\n",
              "    <tr>\n",
              "      <th>10001</th>\n",
              "      <td>She 'll run against Republican Thomas Pekarek ...</td>\n",
              "    </tr>\n",
              "    <tr>\n",
              "      <th>10002</th>\n",
              "      <td>The Taliban said earlier they had handed the t...</td>\n",
              "    </tr>\n",
              "    <tr>\n",
              "      <th>10003</th>\n",
              "      <td>Duncan , 45 , pleaded guilty in December to 10...</td>\n",
              "    </tr>\n",
              "    <tr>\n",
              "      <th>10004</th>\n",
              "      <td>Â Important risk factors that could cause actu...</td>\n",
              "    </tr>\n",
              "    <tr>\n",
              "      <th>...</th>\n",
              "      <td>...</td>\n",
              "    </tr>\n",
              "    <tr>\n",
              "      <th>24995</th>\n",
              "      <td>( CBS ) For the past year and a half , several...</td>\n",
              "    </tr>\n",
              "    <tr>\n",
              "      <th>24996</th>\n",
              "      <td>Heck , he is older than my grandpa .</td>\n",
              "    </tr>\n",
              "    <tr>\n",
              "      <th>24997</th>\n",
              "      <td>The photos were of people they know and didn '...</td>\n",
              "    </tr>\n",
              "    <tr>\n",
              "      <th>24998</th>\n",
              "      <td>In several pictures Ms. Maybin has digitally c...</td>\n",
              "    </tr>\n",
              "    <tr>\n",
              "      <th>24999</th>\n",
              "      <td>But it did not offer a more attractive type of...</td>\n",
              "    </tr>\n",
              "  </tbody>\n",
              "</table>\n",
              "<p>15000 rows × 1 columns</p>\n",
              "</div>"
            ],
            "text/plain": [
              "                                                       0\n",
              "10000  UnitedHealth 's Simon Stevens said the suggest...\n",
              "10001  She 'll run against Republican Thomas Pekarek ...\n",
              "10002  The Taliban said earlier they had handed the t...\n",
              "10003  Duncan , 45 , pleaded guilty in December to 10...\n",
              "10004  Â Important risk factors that could cause actu...\n",
              "...                                                  ...\n",
              "24995  ( CBS ) For the past year and a half , several...\n",
              "24996               Heck , he is older than my grandpa .\n",
              "24997  The photos were of people they know and didn '...\n",
              "24998  In several pictures Ms. Maybin has digitally c...\n",
              "24999  But it did not offer a more attractive type of...\n",
              "\n",
              "[15000 rows x 1 columns]"
            ]
          },
          "execution_count": 4,
          "metadata": {},
          "output_type": "execute_result"
        }
      ],
      "source": [
        "# chunk of size 15000\n",
        "df_large = chunks.get_chunk(15000)\n",
        "df_large"
      ]
    },
    {
      "cell_type": "markdown",
      "id": "664c3252-b76d-42f0-984b-8f581a1ec3b3",
      "metadata": {
        "id": "664c3252-b76d-42f0-984b-8f581a1ec3b3"
      },
      "source": [
        "\n",
        "## Preprocess data"
      ]
    },
    {
      "cell_type": "code",
      "execution_count": null,
      "id": "e3097044-5532-476f-a367-70373f205fc2",
      "metadata": {
        "id": "e3097044-5532-476f-a367-70373f205fc2"
      },
      "outputs": [],
      "source": [
        "#remove punctuation\n",
        "def remove_punctuation(text):\n",
        "    punctuationfree=\"\".join([i.lower() for i in text if i not in string.punctuation])\n",
        "    return punctuationfree\n",
        "\n",
        "#storing the puntuation free text\n",
        "df['clean']= df[0].apply(lambda x:remove_punctuation(x))\n",
        "df_large['clean']= df_large[0].apply(lambda x:remove_punctuation(x))"
      ]
    },
    {
      "cell_type": "code",
      "execution_count": null,
      "id": "835d69fd-befc-4129-b86e-86e1cefbe330",
      "metadata": {
        "id": "835d69fd-befc-4129-b86e-86e1cefbe330"
      },
      "outputs": [],
      "source": [
        "#defining function for tokenization\n",
        "# nltk.download('punkt')\n",
        "\n",
        "from nltk.tokenize import word_tokenize\n",
        "\n",
        "def tokenization(text):\n",
        "    tokens = word_tokenize(text)\n",
        "    return tokens\n",
        "\n",
        "\n",
        "#applying function to the column\n",
        "df['clean_tokenized']= df['clean'].apply(lambda x: tokenization(x))\n",
        "df_large['clean_tokenized']= df_large['clean'].apply(lambda x: tokenization(x))"
      ]
    },
    {
      "cell_type": "code",
      "execution_count": null,
      "id": "ad4589b3-e6d6-40fa-8a2e-95c229e9a759",
      "metadata": {
        "id": "ad4589b3-e6d6-40fa-8a2e-95c229e9a759"
      },
      "outputs": [],
      "source": [
        "#importing the Stemming function from nltk library\n",
        "from nltk.stem.porter import PorterStemmer\n",
        "#defining the object for stemming\n",
        "porter_stemmer = PorterStemmer()\n",
        "\n",
        "#defining a function for stemming\n",
        "def stemming(text):\n",
        "    stem_text = [porter_stemmer.stem(word) for word in text]\n",
        "    return stem_text\n",
        "\n",
        "df['stemmed']=df['clean_tokenized'].apply(lambda x: stemming(x))\n",
        "df_large['stemmed']=df_large['clean_tokenized'].apply(lambda x: stemming(x))"
      ]
    },
    {
      "cell_type": "code",
      "execution_count": null,
      "id": "6692f265-0017-402c-a5a5-70eb03d173c9",
      "metadata": {
        "id": "6692f265-0017-402c-a5a5-70eb03d173c9"
      },
      "outputs": [],
      "source": [
        "#lemmatization\n",
        "import nltk\n",
        "from nltk.stem import WordNetLemmatizer\n",
        "\n",
        "# uncomment next 2 line and download once:\n",
        "# nltk.download('wordnet')\n",
        "# nltk.download('omw-1.4')\n",
        "\n",
        "wordnet_lemmatizer = WordNetLemmatizer()\n",
        "\n",
        "#lemmatization function\n",
        "def lemmatizer(text):\n",
        "    lemm_text = [wordnet_lemmatizer.lemmatize(word) for word in text]\n",
        "    return lemm_text\n",
        "\n",
        "df['lemmatized'] = df['clean_tokenized'].apply(lambda x:lemmatizer(x))\n",
        "df_large['lemmatized'] = df_large['clean_tokenized'].apply(lambda x:lemmatizer(x))"
      ]
    },
    {
      "cell_type": "code",
      "execution_count": null,
      "id": "1a084eb0-3cfd-4ba9-8d75-ef8ced8e0f32",
      "metadata": {
        "id": "1a084eb0-3cfd-4ba9-8d75-ef8ced8e0f32",
        "outputId": "a34e6cca-665a-4550-b61a-eaa19f684985"
      },
      "outputs": [
        {
          "data": {
            "text/html": [
              "<div>\n",
              "<style scoped>\n",
              "    .dataframe tbody tr th:only-of-type {\n",
              "        vertical-align: middle;\n",
              "    }\n",
              "\n",
              "    .dataframe tbody tr th {\n",
              "        vertical-align: top;\n",
              "    }\n",
              "\n",
              "    .dataframe thead th {\n",
              "        text-align: right;\n",
              "    }\n",
              "</style>\n",
              "<table border=\"1\" class=\"dataframe\">\n",
              "  <thead>\n",
              "    <tr style=\"text-align: right;\">\n",
              "      <th></th>\n",
              "      <th>0</th>\n",
              "      <th>clean</th>\n",
              "      <th>clean_tokenized</th>\n",
              "      <th>stemmed</th>\n",
              "      <th>lemmatized</th>\n",
              "    </tr>\n",
              "  </thead>\n",
              "  <tbody>\n",
              "    <tr>\n",
              "      <th>0</th>\n",
              "      <td>The U.S. Centers for Disease Control and Preve...</td>\n",
              "      <td>the us centers for disease control and prevent...</td>\n",
              "      <td>[the, us, centers, for, disease, control, and,...</td>\n",
              "      <td>[the, us, center, for, diseas, control, and, p...</td>\n",
              "      <td>[the, u, center, for, disease, control, and, p...</td>\n",
              "    </tr>\n",
              "    <tr>\n",
              "      <th>1</th>\n",
              "      <td>When Ms. Winfrey invited Suzanne Somers to sha...</td>\n",
              "      <td>when ms winfrey invited suzanne somers to shar...</td>\n",
              "      <td>[when, ms, winfrey, invited, suzanne, somers, ...</td>\n",
              "      <td>[when, ms, winfrey, invit, suzann, somer, to, ...</td>\n",
              "      <td>[when, m, winfrey, invited, suzanne, somers, t...</td>\n",
              "    </tr>\n",
              "    <tr>\n",
              "      <th>2</th>\n",
              "      <td>Elk calling -- a skill that hunters perfected ...</td>\n",
              "      <td>elk calling  a skill that hunters perfected lo...</td>\n",
              "      <td>[elk, calling, a, skill, that, hunters, perfec...</td>\n",
              "      <td>[elk, call, a, skill, that, hunter, perfect, l...</td>\n",
              "      <td>[elk, calling, a, skill, that, hunter, perfect...</td>\n",
              "    </tr>\n",
              "    <tr>\n",
              "      <th>3</th>\n",
              "      <td>Don 't !</td>\n",
              "      <td>don t</td>\n",
              "      <td>[don, t]</td>\n",
              "      <td>[don, t]</td>\n",
              "      <td>[don, t]</td>\n",
              "    </tr>\n",
              "    <tr>\n",
              "      <th>4</th>\n",
              "      <td>Fish , ranked 98th in the world , fired 22 ace...</td>\n",
              "      <td>fish  ranked 98th in the world  fired 22 aces ...</td>\n",
              "      <td>[fish, ranked, 98th, in, the, world, fired, 22...</td>\n",
              "      <td>[fish, rank, 98th, in, the, world, fire, 22, a...</td>\n",
              "      <td>[fish, ranked, 98th, in, the, world, fired, 22...</td>\n",
              "    </tr>\n",
              "  </tbody>\n",
              "</table>\n",
              "</div>"
            ],
            "text/plain": [
              "                                                   0  \\\n",
              "0  The U.S. Centers for Disease Control and Preve...   \n",
              "1  When Ms. Winfrey invited Suzanne Somers to sha...   \n",
              "2  Elk calling -- a skill that hunters perfected ...   \n",
              "3                                           Don 't !   \n",
              "4  Fish , ranked 98th in the world , fired 22 ace...   \n",
              "\n",
              "                                               clean  \\\n",
              "0  the us centers for disease control and prevent...   \n",
              "1  when ms winfrey invited suzanne somers to shar...   \n",
              "2  elk calling  a skill that hunters perfected lo...   \n",
              "3                                             don t    \n",
              "4  fish  ranked 98th in the world  fired 22 aces ...   \n",
              "\n",
              "                                     clean_tokenized  \\\n",
              "0  [the, us, centers, for, disease, control, and,...   \n",
              "1  [when, ms, winfrey, invited, suzanne, somers, ...   \n",
              "2  [elk, calling, a, skill, that, hunters, perfec...   \n",
              "3                                           [don, t]   \n",
              "4  [fish, ranked, 98th, in, the, world, fired, 22...   \n",
              "\n",
              "                                             stemmed  \\\n",
              "0  [the, us, center, for, diseas, control, and, p...   \n",
              "1  [when, ms, winfrey, invit, suzann, somer, to, ...   \n",
              "2  [elk, call, a, skill, that, hunter, perfect, l...   \n",
              "3                                           [don, t]   \n",
              "4  [fish, rank, 98th, in, the, world, fire, 22, a...   \n",
              "\n",
              "                                          lemmatized  \n",
              "0  [the, u, center, for, disease, control, and, p...  \n",
              "1  [when, m, winfrey, invited, suzanne, somers, t...  \n",
              "2  [elk, calling, a, skill, that, hunter, perfect...  \n",
              "3                                           [don, t]  \n",
              "4  [fish, ranked, 98th, in, the, world, fired, 22...  "
            ]
          },
          "execution_count": 9,
          "metadata": {},
          "output_type": "execute_result"
        }
      ],
      "source": [
        "df.head()"
      ]
    },
    {
      "cell_type": "code",
      "execution_count": null,
      "id": "afe85663-c3d6-4a8f-9332-005da07f37e3",
      "metadata": {
        "id": "afe85663-c3d6-4a8f-9332-005da07f37e3",
        "outputId": "6b1d8a64-4b01-4f07-997e-9ec29ea63837"
      },
      "outputs": [
        {
          "data": {
            "text/html": [
              "<div>\n",
              "<style scoped>\n",
              "    .dataframe tbody tr th:only-of-type {\n",
              "        vertical-align: middle;\n",
              "    }\n",
              "\n",
              "    .dataframe tbody tr th {\n",
              "        vertical-align: top;\n",
              "    }\n",
              "\n",
              "    .dataframe thead th {\n",
              "        text-align: right;\n",
              "    }\n",
              "</style>\n",
              "<table border=\"1\" class=\"dataframe\">\n",
              "  <thead>\n",
              "    <tr style=\"text-align: right;\">\n",
              "      <th></th>\n",
              "      <th>index</th>\n",
              "      <th>0</th>\n",
              "      <th>clean</th>\n",
              "      <th>clean_tokenized</th>\n",
              "      <th>stemmed</th>\n",
              "      <th>lemmatized</th>\n",
              "    </tr>\n",
              "  </thead>\n",
              "  <tbody>\n",
              "    <tr>\n",
              "      <th>0</th>\n",
              "      <td>10000</td>\n",
              "      <td>UnitedHealth 's Simon Stevens said the suggest...</td>\n",
              "      <td>unitedhealth s simon stevens said the suggesti...</td>\n",
              "      <td>[unitedhealth, s, simon, stevens, said, the, s...</td>\n",
              "      <td>[unitedhealth, s, simon, steven, said, the, su...</td>\n",
              "      <td>[unitedhealth, s, simon, stevens, said, the, s...</td>\n",
              "    </tr>\n",
              "    <tr>\n",
              "      <th>1</th>\n",
              "      <td>10001</td>\n",
              "      <td>She 'll run against Republican Thomas Pekarek ...</td>\n",
              "      <td>she ll run against republican thomas pekarek  ...</td>\n",
              "      <td>[she, ll, run, against, republican, thomas, pe...</td>\n",
              "      <td>[she, ll, run, against, republican, thoma, pek...</td>\n",
              "      <td>[she, ll, run, against, republican, thomas, pe...</td>\n",
              "    </tr>\n",
              "    <tr>\n",
              "      <th>2</th>\n",
              "      <td>10002</td>\n",
              "      <td>The Taliban said earlier they had handed the t...</td>\n",
              "      <td>the taliban said earlier they had handed the t...</td>\n",
              "      <td>[the, taliban, said, earlier, they, had, hande...</td>\n",
              "      <td>[the, taliban, said, earlier, they, had, hand,...</td>\n",
              "      <td>[the, taliban, said, earlier, they, had, hande...</td>\n",
              "    </tr>\n",
              "    <tr>\n",
              "      <th>3</th>\n",
              "      <td>10003</td>\n",
              "      <td>Duncan , 45 , pleaded guilty in December to 10...</td>\n",
              "      <td>duncan  45  pleaded guilty in december to 10 f...</td>\n",
              "      <td>[duncan, 45, pleaded, guilty, in, december, to...</td>\n",
              "      <td>[duncan, 45, plead, guilti, in, decemb, to, 10...</td>\n",
              "      <td>[duncan, 45, pleaded, guilty, in, december, to...</td>\n",
              "    </tr>\n",
              "    <tr>\n",
              "      <th>4</th>\n",
              "      <td>10004</td>\n",
              "      <td>Â Important risk factors that could cause actu...</td>\n",
              "      <td>â important risk factors that could cause actu...</td>\n",
              "      <td>[â, important, risk, factors, that, could, cau...</td>\n",
              "      <td>[â, import, risk, factor, that, could, caus, a...</td>\n",
              "      <td>[â, important, risk, factor, that, could, caus...</td>\n",
              "    </tr>\n",
              "  </tbody>\n",
              "</table>\n",
              "</div>"
            ],
            "text/plain": [
              "   index                                                  0  \\\n",
              "0  10000  UnitedHealth 's Simon Stevens said the suggest...   \n",
              "1  10001  She 'll run against Republican Thomas Pekarek ...   \n",
              "2  10002  The Taliban said earlier they had handed the t...   \n",
              "3  10003  Duncan , 45 , pleaded guilty in December to 10...   \n",
              "4  10004  Â Important risk factors that could cause actu...   \n",
              "\n",
              "                                               clean  \\\n",
              "0  unitedhealth s simon stevens said the suggesti...   \n",
              "1  she ll run against republican thomas pekarek  ...   \n",
              "2  the taliban said earlier they had handed the t...   \n",
              "3  duncan  45  pleaded guilty in december to 10 f...   \n",
              "4  â important risk factors that could cause actu...   \n",
              "\n",
              "                                     clean_tokenized  \\\n",
              "0  [unitedhealth, s, simon, stevens, said, the, s...   \n",
              "1  [she, ll, run, against, republican, thomas, pe...   \n",
              "2  [the, taliban, said, earlier, they, had, hande...   \n",
              "3  [duncan, 45, pleaded, guilty, in, december, to...   \n",
              "4  [â, important, risk, factors, that, could, cau...   \n",
              "\n",
              "                                             stemmed  \\\n",
              "0  [unitedhealth, s, simon, steven, said, the, su...   \n",
              "1  [she, ll, run, against, republican, thoma, pek...   \n",
              "2  [the, taliban, said, earlier, they, had, hand,...   \n",
              "3  [duncan, 45, plead, guilti, in, decemb, to, 10...   \n",
              "4  [â, import, risk, factor, that, could, caus, a...   \n",
              "\n",
              "                                          lemmatized  \n",
              "0  [unitedhealth, s, simon, stevens, said, the, s...  \n",
              "1  [she, ll, run, against, republican, thomas, pe...  \n",
              "2  [the, taliban, said, earlier, they, had, hande...  \n",
              "3  [duncan, 45, pleaded, guilty, in, december, to...  \n",
              "4  [â, important, risk, factor, that, could, caus...  "
            ]
          },
          "execution_count": 10,
          "metadata": {},
          "output_type": "execute_result"
        }
      ],
      "source": [
        "df_large.reset_index(inplace=True)\n",
        "df_large.head()"
      ]
    },
    {
      "cell_type": "markdown",
      "id": "0abe0ea1-39db-4f64-ad0b-630be7033d42",
      "metadata": {
        "id": "0abe0ea1-39db-4f64-ad0b-630be7033d42"
      },
      "source": [
        "## Encoding words"
      ]
    },
    {
      "cell_type": "code",
      "execution_count": null,
      "id": "b76c3ba5-33ba-4cfb-bbf1-b42ea872c836",
      "metadata": {
        "id": "b76c3ba5-33ba-4cfb-bbf1-b42ea872c836",
        "outputId": "736a6b39-7c9f-4bea-e093-b4f5c89092d4"
      },
      "outputs": [
        {
          "name": "stdout",
          "output_type": "stream",
          "text": [
            "Vocab length: 23269\n",
            "Vocab length: 29056\n"
          ]
        }
      ],
      "source": [
        "from keras.preprocessing.text import Tokenizer\n",
        "from itertools import chain\n",
        "\n",
        "# function to encode data\n",
        "def encode(data):\n",
        "    lemma_output = np.concatenate(data['lemmatized'])\n",
        "    tokenizer = Tokenizer()\n",
        "    tokenizer.fit_on_texts(lemma_output.tolist())\n",
        "    encoded_data = tokenizer.texts_to_sequences(lemma_output.tolist())\n",
        "    encoded_data = list(chain(*encoded_data))\n",
        "    \n",
        "    vocab_length = len(tokenizer.word_index)+1\n",
        "    print('Vocab length:',vocab_length)\n",
        "\n",
        "    return encoded_data, vocab_length\n",
        "    \n",
        "encoded_data, vocab_length = encode(df)\n",
        "encoded_data_large, vocab_length_large = encode(df_large)"
      ]
    },
    {
      "cell_type": "code",
      "execution_count": null,
      "id": "97c406c3-8aa7-4ce2-adb4-664283eee35d",
      "metadata": {
        "id": "97c406c3-8aa7-4ce2-adb4-664283eee35d",
        "outputId": "a3b417d5-a84d-4b4f-caaf-7368de4783eb"
      },
      "outputs": [
        {
          "name": "stdout",
          "output_type": "stream",
          "text": [
            "Total num of sequences: 224421\n",
            "Total num of sequences: 335476\n"
          ]
        }
      ],
      "source": [
        "# function to generate sequences\n",
        "def sequence_generate(encoded_data):\n",
        "    sequences = list()\n",
        "    for i in range(1, len(encoded_data)):\n",
        "        sequence = encoded_data[i-1:i+1]\n",
        "        sequences.append(sequence)\n",
        "    print('Total num of sequences: %d' %len(sequences))\n",
        "    return sequences\n",
        "\n",
        "sequences = sequence_generate(encoded_data)\n",
        "sequences_large = sequence_generate(encoded_data_large)"
      ]
    },
    {
      "cell_type": "code",
      "execution_count": null,
      "id": "0ef74a64-71e1-4969-860c-eb78f6314e6f",
      "metadata": {
        "id": "0ef74a64-71e1-4969-860c-eb78f6314e6f",
        "outputId": "dcf943ea-b6e0-4ffd-d9f3-3e97b8df7986"
      },
      "outputs": [
        {
          "data": {
            "text/plain": [
              "[[1, 55], [55, 369], [369, 8], [8, 818], [818, 469]]"
            ]
          },
          "execution_count": 13,
          "metadata": {},
          "output_type": "execute_result"
        }
      ],
      "source": [
        "sequences[:5]"
      ]
    },
    {
      "cell_type": "code",
      "execution_count": null,
      "id": "4ebe6b89-3d95-4b9f-90dd-a8a39530f980",
      "metadata": {
        "id": "4ebe6b89-3d95-4b9f-90dd-a8a39530f980",
        "outputId": "ccf528c1-e3c9-4886-abff-da9df54ac396"
      },
      "outputs": [
        {
          "data": {
            "text/plain": [
              "[[13148, 7], [7, 2118], [2118, 3120], [3120, 15], [15, 1]]"
            ]
          },
          "execution_count": 14,
          "metadata": {},
          "output_type": "execute_result"
        }
      ],
      "source": [
        "sequences_large[:5]"
      ]
    },
    {
      "cell_type": "markdown",
      "id": "80325a14-8361-4355-91e7-072fd0896109",
      "metadata": {
        "id": "80325a14-8361-4355-91e7-072fd0896109"
      },
      "source": [
        "## Split Data"
      ]
    },
    {
      "cell_type": "code",
      "execution_count": null,
      "id": "eeac85ca-26e6-4e5a-986f-6e5e0e2c0985",
      "metadata": {
        "id": "eeac85ca-26e6-4e5a-986f-6e5e0e2c0985"
      },
      "outputs": [],
      "source": [
        "from tensorflow.keras.utils import to_categorical\n",
        "from sklearn.model_selection import train_test_split\n",
        "\n",
        "def split_data(sequences, vocab_length):\n",
        "    # split into text and next word (label)\n",
        "    sequences = np.array(sequences)\n",
        "    x,y = sequences[:,0], sequences[:,1]\n",
        "    y = to_categorical(y, num_classes = vocab_length)\n",
        "    return x, y\n",
        "\n",
        "x, y = split_data(sequences, vocab_length)\n",
        "X_train, X_test, y_train, y_test = train_test_split(x, y, test_size=0.20, random_state=42)\n",
        "\n",
        "x_large, y_large = split_data(sequences_large, vocab_length_large)\n",
        "X_train_l, X_test_l, y_train_l, y_test_l = train_test_split(x_large, y_large, test_size=0.20, random_state=42)"
      ]
    },
    {
      "cell_type": "markdown",
      "id": "c4286bb8-782b-4f54-a761-0f6a4152f47f",
      "metadata": {
        "id": "c4286bb8-782b-4f54-a761-0f6a4152f47f"
      },
      "source": [
        "## RNN Model - LSTM"
      ]
    },
    {
      "cell_type": "code",
      "execution_count": null,
      "id": "82c7f2ba-5c41-4c6c-8744-6ced5ac2a4d8",
      "metadata": {
        "id": "82c7f2ba-5c41-4c6c-8744-6ced5ac2a4d8"
      },
      "outputs": [],
      "source": [
        "from keras.models import Sequential\n",
        "from keras.layers import Dense\n",
        "from keras.layers import LSTM\n",
        "from keras.layers import Embedding\n",
        "\n",
        "import pickle\n",
        "from keras.models import load_model"
      ]
    },
    {
      "cell_type": "code",
      "execution_count": null,
      "id": "82b87902-62ea-422f-8e70-bd426a3137f3",
      "metadata": {
        "id": "82b87902-62ea-422f-8e70-bd426a3137f3",
        "outputId": "d6777b41-5591-4c31-eda6-e3122f7430d8"
      },
      "outputs": [
        {
          "name": "stdout",
          "output_type": "stream",
          "text": [
            "Model: \"sequential\"\n",
            "_________________________________________________________________\n",
            " Layer (type)                Output Shape              Param #   \n",
            "=================================================================\n",
            " embedding (Embedding)       (None, 1, 10)             232690    \n",
            "                                                                 \n",
            " lstm (LSTM)                 (None, 50)                12200     \n",
            "                                                                 \n",
            " dense (Dense)               (None, 23269)             1186719   \n",
            "                                                                 \n",
            "=================================================================\n",
            "Total params: 1,431,609\n",
            "Trainable params: 1,431,609\n",
            "Non-trainable params: 0\n",
            "_________________________________________________________________\n",
            "None\n"
          ]
        }
      ],
      "source": [
        "# Build RNN model\n",
        "rnn_model = Sequential()\n",
        "rnn_model.add(Embedding(vocab_length, 10,input_length = 1))\n",
        "rnn_model.add(LSTM(50))\n",
        "rnn_model.add(Dense(vocab_length, activation = 'softmax'))\n",
        "print(rnn_model.summary())"
      ]
    },
    {
      "cell_type": "markdown",
      "id": "52779231-d2a8-428d-94c9-dd3f4b299360",
      "metadata": {
        "id": "52779231-d2a8-428d-94c9-dd3f4b299360"
      },
      "source": [
        "#### Train 10K subset data"
      ]
    },
    {
      "cell_type": "code",
      "execution_count": null,
      "id": "444409a8-4ba8-4747-8a2e-9855c9089216",
      "metadata": {
        "id": "444409a8-4ba8-4747-8a2e-9855c9089216",
        "outputId": "932c93a1-d438-44db-e35d-7bd5d532333e"
      },
      "outputs": [
        {
          "name": "stdout",
          "output_type": "stream",
          "text": [
            "Epoch 1/100\n",
            "1263/1263 [==============================] - 46s 34ms/step - loss: 7.3777 - accuracy: 0.0748 - val_loss: 7.1014 - val_accuracy: 0.0957\n",
            "Epoch 2/100\n",
            "1263/1263 [==============================] - 38s 30ms/step - loss: 6.6780 - accuracy: 0.1115 - val_loss: 7.0590 - val_accuracy: 0.1063\n",
            "Epoch 3/100\n",
            "1263/1263 [==============================] - 38s 30ms/step - loss: 6.3200 - accuracy: 0.1307 - val_loss: 7.1493 - val_accuracy: 0.1103\n",
            "Epoch 4/100\n",
            "1263/1263 [==============================] - 40s 31ms/step - loss: 6.0101 - accuracy: 0.1464 - val_loss: 7.2964 - val_accuracy: 0.1109\n",
            "Epoch 5/100\n",
            "1263/1263 [==============================] - 39s 31ms/step - loss: 5.7510 - accuracy: 0.1579 - val_loss: 7.4673 - val_accuracy: 0.1093\n",
            "Epoch 6/100\n",
            "1263/1263 [==============================] - 39s 31ms/step - loss: 5.5531 - accuracy: 0.1648 - val_loss: 7.6082 - val_accuracy: 0.1122\n",
            "Epoch 7/100\n",
            "1263/1263 [==============================] - 39s 31ms/step - loss: 5.4017 - accuracy: 0.1700 - val_loss: 7.7483 - val_accuracy: 0.1120\n",
            "Epoch 8/100\n",
            "1263/1263 [==============================] - 39s 31ms/step - loss: 5.2836 - accuracy: 0.1746 - val_loss: 7.8743 - val_accuracy: 0.1124\n",
            "Epoch 9/100\n",
            "1263/1263 [==============================] - 39s 31ms/step - loss: 5.1904 - accuracy: 0.1782 - val_loss: 7.9739 - val_accuracy: 0.1128\n",
            "Epoch 10/100\n",
            "1263/1263 [==============================] - 39s 31ms/step - loss: 5.1188 - accuracy: 0.1817 - val_loss: 8.0904 - val_accuracy: 0.1101\n",
            "Epoch 11/100\n",
            "1263/1263 [==============================] - 39s 31ms/step - loss: 5.0592 - accuracy: 0.1843 - val_loss: 8.1481 - val_accuracy: 0.1101\n",
            "Epoch 12/100\n",
            "1263/1263 [==============================] - 39s 31ms/step - loss: 5.0079 - accuracy: 0.1871 - val_loss: 8.2335 - val_accuracy: 0.1094\n",
            "Epoch 13/100\n",
            "1263/1263 [==============================] - 39s 31ms/step - loss: 4.9680 - accuracy: 0.1901 - val_loss: 8.2869 - val_accuracy: 0.1076\n",
            "Epoch 14/100\n",
            "1263/1263 [==============================] - 39s 31ms/step - loss: 4.9331 - accuracy: 0.1923 - val_loss: 8.3398 - val_accuracy: 0.1076\n",
            "Epoch 15/100\n",
            "1263/1263 [==============================] - 39s 31ms/step - loss: 4.9030 - accuracy: 0.1930 - val_loss: 8.3900 - val_accuracy: 0.1079\n",
            "Epoch 16/100\n",
            "1263/1263 [==============================] - 39s 31ms/step - loss: 4.8768 - accuracy: 0.1945 - val_loss: 8.4651 - val_accuracy: 0.1083\n",
            "Epoch 17/100\n",
            "1263/1263 [==============================] - 39s 31ms/step - loss: 4.8544 - accuracy: 0.1956 - val_loss: 8.5245 - val_accuracy: 0.1087\n",
            "Epoch 18/100\n",
            "1263/1263 [==============================] - 39s 31ms/step - loss: 4.8343 - accuracy: 0.1958 - val_loss: 8.5660 - val_accuracy: 0.1076\n",
            "Epoch 19/100\n",
            "1263/1263 [==============================] - 39s 31ms/step - loss: 4.8170 - accuracy: 0.1965 - val_loss: 8.5614 - val_accuracy: 0.1082\n",
            "Epoch 20/100\n",
            "1263/1263 [==============================] - 39s 31ms/step - loss: 4.8013 - accuracy: 0.1967 - val_loss: 8.5688 - val_accuracy: 0.1080\n",
            "Epoch 21/100\n",
            "1263/1263 [==============================] - 39s 31ms/step - loss: 4.7886 - accuracy: 0.1971 - val_loss: 8.6564 - val_accuracy: 0.1074\n",
            "Epoch 22/100\n",
            "1263/1263 [==============================] - 39s 31ms/step - loss: 4.7751 - accuracy: 0.1975 - val_loss: 8.6609 - val_accuracy: 0.1095\n",
            "Epoch 23/100\n",
            "1263/1263 [==============================] - 39s 31ms/step - loss: 4.7611 - accuracy: 0.1981 - val_loss: 8.6777 - val_accuracy: 0.1067\n",
            "Epoch 24/100\n",
            "1263/1263 [==============================] - 39s 31ms/step - loss: 4.7532 - accuracy: 0.1983 - val_loss: 8.7057 - val_accuracy: 0.1074\n",
            "Epoch 25/100\n",
            "1263/1263 [==============================] - 38s 30ms/step - loss: 4.7435 - accuracy: 0.1980 - val_loss: 8.7405 - val_accuracy: 0.1082\n",
            "Epoch 26/100\n",
            "1263/1263 [==============================] - 39s 31ms/step - loss: 4.7338 - accuracy: 0.1978 - val_loss: 8.7301 - val_accuracy: 0.1077\n",
            "Epoch 27/100\n",
            "1263/1263 [==============================] - 39s 31ms/step - loss: 4.7242 - accuracy: 0.1989 - val_loss: 8.7981 - val_accuracy: 0.1068\n",
            "Epoch 28/100\n",
            "1263/1263 [==============================] - 38s 30ms/step - loss: 4.7170 - accuracy: 0.1984 - val_loss: 8.8029 - val_accuracy: 0.1092\n",
            "Epoch 29/100\n",
            "1263/1263 [==============================] - 39s 31ms/step - loss: 4.7101 - accuracy: 0.1984 - val_loss: 8.8215 - val_accuracy: 0.1077\n",
            "Epoch 30/100\n",
            "1263/1263 [==============================] - 39s 31ms/step - loss: 4.7016 - accuracy: 0.1987 - val_loss: 8.8339 - val_accuracy: 0.1077\n",
            "Epoch 31/100\n",
            "1263/1263 [==============================] - 39s 31ms/step - loss: 4.6953 - accuracy: 0.1988 - val_loss: 8.8485 - val_accuracy: 0.1090\n",
            "Epoch 32/100\n",
            "1263/1263 [==============================] - 39s 31ms/step - loss: 4.6897 - accuracy: 0.1991 - val_loss: 8.8579 - val_accuracy: 0.1084\n",
            "Epoch 33/100\n",
            "1263/1263 [==============================] - 39s 31ms/step - loss: 4.6825 - accuracy: 0.1985 - val_loss: 8.8997 - val_accuracy: 0.1067\n",
            "Epoch 34/100\n",
            "1263/1263 [==============================] - 39s 31ms/step - loss: 4.6775 - accuracy: 0.1993 - val_loss: 8.8956 - val_accuracy: 0.1059\n",
            "Epoch 35/100\n",
            "1263/1263 [==============================] - 39s 31ms/step - loss: 4.6711 - accuracy: 0.1994 - val_loss: 8.9182 - val_accuracy: 0.1072\n",
            "Epoch 36/100\n",
            "1263/1263 [==============================] - 39s 31ms/step - loss: 4.6671 - accuracy: 0.1989 - val_loss: 8.9402 - val_accuracy: 0.1065\n",
            "Epoch 37/100\n",
            "1263/1263 [==============================] - 39s 31ms/step - loss: 4.6608 - accuracy: 0.1990 - val_loss: 8.9603 - val_accuracy: 0.1086\n",
            "Epoch 38/100\n",
            "1263/1263 [==============================] - 39s 31ms/step - loss: 4.6569 - accuracy: 0.1990 - val_loss: 8.9590 - val_accuracy: 0.1073\n",
            "Epoch 39/100\n",
            "1263/1263 [==============================] - 39s 31ms/step - loss: 4.6529 - accuracy: 0.1997 - val_loss: 9.0182 - val_accuracy: 0.1064\n",
            "Epoch 40/100\n",
            "1263/1263 [==============================] - 39s 31ms/step - loss: 4.6476 - accuracy: 0.1991 - val_loss: 9.0057 - val_accuracy: 0.1062\n",
            "Epoch 41/100\n",
            "1263/1263 [==============================] - 39s 31ms/step - loss: 4.6441 - accuracy: 0.1994 - val_loss: 9.0143 - val_accuracy: 0.1054\n",
            "Epoch 42/100\n",
            "1263/1263 [==============================] - 39s 31ms/step - loss: 4.6402 - accuracy: 0.1990 - val_loss: 9.0689 - val_accuracy: 0.1079\n",
            "Epoch 43/100\n",
            "1263/1263 [==============================] - 39s 31ms/step - loss: 4.6370 - accuracy: 0.1994 - val_loss: 9.0438 - val_accuracy: 0.1079\n",
            "Epoch 44/100\n",
            "1263/1263 [==============================] - 39s 31ms/step - loss: 4.6324 - accuracy: 0.1983 - val_loss: 9.0611 - val_accuracy: 0.1062\n",
            "Epoch 45/100\n",
            "1263/1263 [==============================] - 39s 31ms/step - loss: 4.6294 - accuracy: 0.2000 - val_loss: 9.0653 - val_accuracy: 0.1068\n",
            "Epoch 46/100\n",
            "1263/1263 [==============================] - 39s 31ms/step - loss: 4.6262 - accuracy: 0.1993 - val_loss: 9.1066 - val_accuracy: 0.1054\n",
            "Epoch 47/100\n",
            "1263/1263 [==============================] - 39s 31ms/step - loss: 4.6229 - accuracy: 0.1998 - val_loss: 9.1491 - val_accuracy: 0.1074\n",
            "Epoch 48/100\n",
            "1263/1263 [==============================] - 39s 31ms/step - loss: 4.6206 - accuracy: 0.1990 - val_loss: 9.1064 - val_accuracy: 0.1084\n",
            "Epoch 49/100\n",
            "1263/1263 [==============================] - 39s 31ms/step - loss: 4.6165 - accuracy: 0.1989 - val_loss: 9.1316 - val_accuracy: 0.1072\n",
            "Epoch 50/100\n",
            "1263/1263 [==============================] - 38s 30ms/step - loss: 4.6127 - accuracy: 0.1995 - val_loss: 9.1523 - val_accuracy: 0.1067\n",
            "Epoch 51/100\n",
            "1263/1263 [==============================] - 39s 31ms/step - loss: 4.6109 - accuracy: 0.1998 - val_loss: 9.1584 - val_accuracy: 0.1053\n",
            "Epoch 52/100\n",
            "1263/1263 [==============================] - 39s 31ms/step - loss: 4.6082 - accuracy: 0.2002 - val_loss: 9.1691 - val_accuracy: 0.1107\n",
            "Epoch 53/100\n",
            "1263/1263 [==============================] - 41s 33ms/step - loss: 4.6054 - accuracy: 0.1997 - val_loss: 9.2015 - val_accuracy: 0.1052\n",
            "Epoch 54/100\n",
            "1263/1263 [==============================] - 38s 30ms/step - loss: 4.6033 - accuracy: 0.2000 - val_loss: 9.2182 - val_accuracy: 0.1074\n",
            "Epoch 55/100\n",
            "1263/1263 [==============================] - 39s 31ms/step - loss: 4.5997 - accuracy: 0.1999 - val_loss: 9.2254 - val_accuracy: 0.1068\n",
            "Epoch 56/100\n",
            "1263/1263 [==============================] - 39s 31ms/step - loss: 4.5965 - accuracy: 0.2004 - val_loss: 9.2433 - val_accuracy: 0.1052\n",
            "Epoch 57/100\n",
            "1263/1263 [==============================] - 39s 31ms/step - loss: 4.5944 - accuracy: 0.1995 - val_loss: 9.2624 - val_accuracy: 0.1073\n",
            "Epoch 58/100\n",
            "1263/1263 [==============================] - 39s 31ms/step - loss: 4.5931 - accuracy: 0.1995 - val_loss: 9.2566 - val_accuracy: 0.1069\n",
            "Epoch 59/100\n",
            "1263/1263 [==============================] - 39s 31ms/step - loss: 4.5907 - accuracy: 0.2005 - val_loss: 9.2811 - val_accuracy: 0.1083\n",
            "Epoch 60/100\n",
            "1263/1263 [==============================] - 39s 31ms/step - loss: 4.5876 - accuracy: 0.2000 - val_loss: 9.2649 - val_accuracy: 0.1050\n",
            "Epoch 61/100\n",
            "1263/1263 [==============================] - 39s 31ms/step - loss: 4.5856 - accuracy: 0.2007 - val_loss: 9.2956 - val_accuracy: 0.1076\n",
            "Epoch 62/100\n",
            "1263/1263 [==============================] - 39s 31ms/step - loss: 4.5837 - accuracy: 0.2005 - val_loss: 9.3251 - val_accuracy: 0.1074\n",
            "Epoch 63/100\n",
            "1263/1263 [==============================] - 39s 31ms/step - loss: 4.5828 - accuracy: 0.2000 - val_loss: 9.3184 - val_accuracy: 0.1073\n",
            "Epoch 64/100\n",
            "1263/1263 [==============================] - 39s 31ms/step - loss: 4.5819 - accuracy: 0.1998 - val_loss: 9.3766 - val_accuracy: 0.1068\n",
            "Epoch 65/100\n",
            "1263/1263 [==============================] - 38s 30ms/step - loss: 4.5774 - accuracy: 0.2007 - val_loss: 9.3540 - val_accuracy: 0.1053\n",
            "Epoch 66/100\n",
            "1263/1263 [==============================] - 39s 31ms/step - loss: 4.5753 - accuracy: 0.2001 - val_loss: 9.3778 - val_accuracy: 0.1072\n",
            "Epoch 67/100\n",
            "1263/1263 [==============================] - 39s 31ms/step - loss: 4.5750 - accuracy: 0.2000 - val_loss: 9.3791 - val_accuracy: 0.1113\n",
            "Epoch 68/100\n",
            "1263/1263 [==============================] - 38s 30ms/step - loss: 4.5734 - accuracy: 0.1999 - val_loss: 9.3813 - val_accuracy: 0.1070\n",
            "Epoch 69/100\n",
            "1263/1263 [==============================] - 39s 31ms/step - loss: 4.5707 - accuracy: 0.2001 - val_loss: 9.3893 - val_accuracy: 0.1084\n",
            "Epoch 70/100\n",
            "1263/1263 [==============================] - 39s 31ms/step - loss: 4.5697 - accuracy: 0.1999 - val_loss: 9.4220 - val_accuracy: 0.1088\n",
            "Epoch 71/100\n",
            "1263/1263 [==============================] - 38s 30ms/step - loss: 4.5664 - accuracy: 0.2001 - val_loss: 9.4377 - val_accuracy: 0.1072\n",
            "Epoch 72/100\n",
            "1263/1263 [==============================] - 39s 31ms/step - loss: 4.5658 - accuracy: 0.2004 - val_loss: 9.4886 - val_accuracy: 0.1069\n",
            "Epoch 73/100\n",
            "1263/1263 [==============================] - 38s 30ms/step - loss: 4.5641 - accuracy: 0.2005 - val_loss: 9.4722 - val_accuracy: 0.1099\n",
            "Epoch 74/100\n",
            "1263/1263 [==============================] - 39s 31ms/step - loss: 4.5622 - accuracy: 0.2005 - val_loss: 9.5171 - val_accuracy: 0.1101\n",
            "Epoch 75/100\n",
            "1263/1263 [==============================] - 39s 31ms/step - loss: 4.5617 - accuracy: 0.2005 - val_loss: 9.4832 - val_accuracy: 0.1078\n",
            "Epoch 76/100\n",
            "1263/1263 [==============================] - 39s 31ms/step - loss: 4.5592 - accuracy: 0.2006 - val_loss: 9.4955 - val_accuracy: 0.1064\n",
            "Epoch 77/100\n",
            "1263/1263 [==============================] - 39s 31ms/step - loss: 4.5589 - accuracy: 0.2004 - val_loss: 9.5183 - val_accuracy: 0.1102\n",
            "Epoch 78/100\n",
            "1263/1263 [==============================] - 39s 31ms/step - loss: 4.5558 - accuracy: 0.2000 - val_loss: 9.5130 - val_accuracy: 0.1099\n",
            "Epoch 79/100\n",
            "1263/1263 [==============================] - 39s 31ms/step - loss: 4.5540 - accuracy: 0.2003 - val_loss: 9.5665 - val_accuracy: 0.1088\n",
            "Epoch 80/100\n",
            "1263/1263 [==============================] - 39s 31ms/step - loss: 4.5543 - accuracy: 0.2005 - val_loss: 9.5368 - val_accuracy: 0.1092\n",
            "Epoch 81/100\n",
            "1263/1263 [==============================] - 39s 31ms/step - loss: 4.5527 - accuracy: 0.2001 - val_loss: 9.5435 - val_accuracy: 0.1087\n",
            "Epoch 82/100\n",
            "1263/1263 [==============================] - 39s 31ms/step - loss: 4.5532 - accuracy: 0.2009 - val_loss: 9.5668 - val_accuracy: 0.1099\n",
            "Epoch 83/100\n",
            "1263/1263 [==============================] - 39s 31ms/step - loss: 4.5511 - accuracy: 0.2003 - val_loss: 9.5919 - val_accuracy: 0.1095\n",
            "Epoch 84/100\n",
            "1263/1263 [==============================] - 39s 31ms/step - loss: 4.5481 - accuracy: 0.2008 - val_loss: 9.5924 - val_accuracy: 0.1084\n",
            "Epoch 85/100\n",
            "1263/1263 [==============================] - 38s 30ms/step - loss: 4.5479 - accuracy: 0.2000 - val_loss: 9.6180 - val_accuracy: 0.1121\n",
            "Epoch 86/100\n",
            "1263/1263 [==============================] - 38s 30ms/step - loss: 4.5473 - accuracy: 0.2000 - val_loss: 9.6157 - val_accuracy: 0.1086\n",
            "Epoch 87/100\n",
            "1263/1263 [==============================] - 38s 30ms/step - loss: 4.5457 - accuracy: 0.2006 - val_loss: 9.6524 - val_accuracy: 0.1075\n",
            "Epoch 88/100\n",
            "1263/1263 [==============================] - 38s 30ms/step - loss: 4.5438 - accuracy: 0.1998 - val_loss: 9.6658 - val_accuracy: 0.1101\n",
            "Epoch 89/100\n",
            "1263/1263 [==============================] - 38s 30ms/step - loss: 4.5447 - accuracy: 0.2000 - val_loss: 9.6805 - val_accuracy: 0.1082\n",
            "Epoch 90/100\n",
            "1263/1263 [==============================] - 38s 30ms/step - loss: 4.5407 - accuracy: 0.2006 - val_loss: 9.7257 - val_accuracy: 0.1060\n",
            "Epoch 91/100\n",
            "1263/1263 [==============================] - 39s 31ms/step - loss: 4.5415 - accuracy: 0.2000 - val_loss: 9.6639 - val_accuracy: 0.1065\n",
            "Epoch 92/100\n",
            "1263/1263 [==============================] - 39s 31ms/step - loss: 4.5389 - accuracy: 0.2007 - val_loss: 9.7493 - val_accuracy: 0.1098\n",
            "Epoch 93/100\n",
            "1263/1263 [==============================] - 39s 31ms/step - loss: 4.5390 - accuracy: 0.2005 - val_loss: 9.7061 - val_accuracy: 0.1065\n",
            "Epoch 94/100\n",
            "1263/1263 [==============================] - 39s 31ms/step - loss: 4.5380 - accuracy: 0.2005 - val_loss: 9.7522 - val_accuracy: 0.1097\n",
            "Epoch 95/100\n",
            "1263/1263 [==============================] - 39s 31ms/step - loss: 4.5351 - accuracy: 0.2001 - val_loss: 9.7439 - val_accuracy: 0.1107\n",
            "Epoch 96/100\n",
            "1263/1263 [==============================] - 39s 31ms/step - loss: 4.5328 - accuracy: 0.2005 - val_loss: 9.7814 - val_accuracy: 0.1091\n",
            "Epoch 97/100\n",
            "1263/1263 [==============================] - 39s 31ms/step - loss: 4.5339 - accuracy: 0.2008 - val_loss: 9.7823 - val_accuracy: 0.1086\n",
            "Epoch 98/100\n",
            "1263/1263 [==============================] - 39s 31ms/step - loss: 4.5326 - accuracy: 0.2004 - val_loss: 9.8038 - val_accuracy: 0.1104\n",
            "Epoch 99/100\n",
            "1263/1263 [==============================] - 39s 31ms/step - loss: 4.5318 - accuracy: 0.2004 - val_loss: 9.8360 - val_accuracy: 0.1078\n",
            "Epoch 100/100\n",
            "1263/1263 [==============================] - 39s 31ms/step - loss: 4.5318 - accuracy: 0.2010 - val_loss: 9.8317 - val_accuracy: 0.1080\n"
          ]
        }
      ],
      "source": [
        "# Train RNN model\n",
        "from tensorflow import keras\n",
        "\n",
        "opt = keras.optimizers.Adam(learning_rate=0.01)\n",
        "rnn_model.compile(loss = 'categorical_crossentropy', optimizer = opt, metrics =['accuracy'])\n",
        "history = rnn_model.fit(X_train, y_train, validation_split=0.10, batch_size=128, epochs=100, shuffle=True).history"
      ]
    },
    {
      "cell_type": "code",
      "execution_count": null,
      "id": "b39dcff5-072d-4a91-98cc-6723bfd379fa",
      "metadata": {
        "id": "b39dcff5-072d-4a91-98cc-6723bfd379fa"
      },
      "outputs": [],
      "source": [
        "# Save trained model\n",
        "rnn_model.save('rnn_model.h5')\n",
        "pickle.dump(history, open(\"history_rnn.p\", \"wb\"))"
      ]
    },
    {
      "cell_type": "code",
      "execution_count": null,
      "id": "49d24f93-0b5f-4f77-bee8-c7682204aad3",
      "metadata": {
        "id": "49d24f93-0b5f-4f77-bee8-c7682204aad3"
      },
      "outputs": [],
      "source": [
        "# Load saved trained model\n",
        "rnn_model = load_model('rnn_model.h5')\n",
        "history_rnn = pickle.load(open(\"history_rnn.p\", \"rb\"))"
      ]
    },
    {
      "cell_type": "code",
      "execution_count": null,
      "id": "d37a0b31-29a3-481b-bf85-0a7c80ebc150",
      "metadata": {
        "id": "d37a0b31-29a3-481b-bf85-0a7c80ebc150",
        "outputId": "f302e422-a69d-48e6-cc65-82ff60dc31a8"
      },
      "outputs": [
        {
          "data": {
            "text/plain": [
              "<matplotlib.legend.Legend at 0x2b7b2a31cfa0>"
            ]
          },
          "execution_count": 18,
          "metadata": {},
          "output_type": "execute_result"
        },
        {
          "data": {
            "image/png": "[encoded data removed]",
            "text/plain": [
              "<Figure size 432x288 with 1 Axes>"
            ]
          },
          "metadata": {
            "needs_background": "light"
          },
          "output_type": "display_data"
        }
      ],
      "source": [
        "# Plot training and validation accuracy\n",
        "import matplotlib.pyplot as plt\n",
        "\n",
        "plt.plot(history_rnn['accuracy'])\n",
        "plt.plot(history_rnn['val_accuracy'])\n",
        "plt.title('model accuracy')\n",
        "plt.ylabel('accuracy')\n",
        "plt.xlabel('epoch')\n",
        "plt.legend(['train', 'test'], loc='upper left')"
      ]
    },
    {
      "cell_type": "code",
      "execution_count": null,
      "id": "81ada7f9-d68c-43d7-9614-930e94f31c56",
      "metadata": {
        "id": "81ada7f9-d68c-43d7-9614-930e94f31c56",
        "outputId": "0a3b69da-253d-4ae2-ff9e-0a05ea7761ea"
      },
      "outputs": [
        {
          "name": "stdout",
          "output_type": "stream",
          "text": [
            "1403/1403 [==============================] - 23s 15ms/step\n"
          ]
        }
      ],
      "source": [
        "y_pred_rnn = rnn_model.predict(X_test)"
      ]
    },
    {
      "cell_type": "code",
      "execution_count": null,
      "id": "1e4f422d-4e18-4b47-8266-b2da6d443074",
      "metadata": {
        "id": "1e4f422d-4e18-4b47-8266-b2da6d443074",
        "outputId": "45dcf266-46c6-4d16-ecf2-8c2fcbde2dc3"
      },
      "outputs": [
        {
          "name": "stdout",
          "output_type": "stream",
          "text": [
            "Root Mean Square Error: 0.003137066\n"
          ]
        }
      ],
      "source": [
        "from sklearn.metrics import mean_squared_error\n",
        "\n",
        "rnn_rmse = mean_squared_error(y_test, y_pred_rnn, squared=False)\n",
        "print(\"Root Mean Square Error:\",rnn_rmse)"
      ]
    },
    {
      "cell_type": "markdown",
      "id": "ea33f587-f2e7-43a7-8b0f-66d676287a98",
      "metadata": {
        "id": "ea33f587-f2e7-43a7-8b0f-66d676287a98"
      },
      "source": [
        "#### Train 15K subset data"
      ]
    },
    {
      "cell_type": "code",
      "execution_count": null,
      "id": "ea7eff5e-33df-4b22-b921-4f98557f3691",
      "metadata": {
        "id": "ea7eff5e-33df-4b22-b921-4f98557f3691",
        "outputId": "41b9eb73-2c82-4286-9bd0-3f973c5b0721"
      },
      "outputs": [
        {
          "name": "stdout",
          "output_type": "stream",
          "text": [
            "Model: \"sequential_1\"\n",
            "_________________________________________________________________\n",
            " Layer (type)                Output Shape              Param #   \n",
            "=================================================================\n",
            " embedding_1 (Embedding)     (None, 1, 10)             290560    \n",
            "                                                                 \n",
            " lstm_1 (LSTM)               (None, 50)                12200     \n",
            "                                                                 \n",
            " dense_1 (Dense)             (None, 29056)             1481856   \n",
            "                                                                 \n",
            "=================================================================\n",
            "Total params: 1,784,616\n",
            "Trainable params: 1,784,616\n",
            "Non-trainable params: 0\n",
            "_________________________________________________________________\n",
            "None\n"
          ]
        }
      ],
      "source": [
        "# Build RNN model\n",
        "rnn_model_l = Sequential()\n",
        "rnn_model_l.add(Embedding(vocab_length_large, 10,input_length = 1))\n",
        "rnn_model_l.add(LSTM(50))\n",
        "rnn_model_l.add(Dense(vocab_length_large, activation = 'softmax'))\n",
        "print(rnn_model_l.summary())"
      ]
    },
    {
      "cell_type": "code",
      "execution_count": null,
      "id": "8795c128-0cdd-4c78-bd38-94511104b529",
      "metadata": {
        "id": "8795c128-0cdd-4c78-bd38-94511104b529",
        "outputId": "e0395920-cda2-43b5-9200-8cff0967c23d"
      },
      "outputs": [
        {
          "name": "stdout",
          "output_type": "stream",
          "text": [
            "Epoch 1/50\n",
            "1888/1888 [==============================] - 66s 34ms/step - loss: 7.2145 - accuracy: 0.0879 - val_loss: 7.0121 - val_accuracy: 0.1045\n",
            "Epoch 2/50\n",
            "1888/1888 [==============================] - 64s 34ms/step - loss: 6.6105 - accuracy: 0.1184 - val_loss: 6.9931 - val_accuracy: 0.1138\n",
            "Epoch 3/50\n",
            "1888/1888 [==============================] - 64s 34ms/step - loss: 6.2675 - accuracy: 0.1349 - val_loss: 7.0749 - val_accuracy: 0.1160\n",
            "Epoch 4/50\n",
            "1888/1888 [==============================] - 64s 34ms/step - loss: 5.9977 - accuracy: 0.1447 - val_loss: 7.1938 - val_accuracy: 0.1165\n",
            "Epoch 5/50\n",
            "1888/1888 [==============================] - 65s 34ms/step - loss: 5.7937 - accuracy: 0.1515 - val_loss: 7.3332 - val_accuracy: 0.1142\n",
            "Epoch 6/50\n",
            "1888/1888 [==============================] - 64s 34ms/step - loss: 5.6395 - accuracy: 0.1566 - val_loss: 7.4416 - val_accuracy: 0.1161\n",
            "Epoch 7/50\n",
            "1888/1888 [==============================] - 64s 34ms/step - loss: 5.5223 - accuracy: 0.1620 - val_loss: 7.5548 - val_accuracy: 0.1147\n",
            "Epoch 8/50\n",
            "1888/1888 [==============================] - 64s 34ms/step - loss: 5.4331 - accuracy: 0.1653 - val_loss: 7.6257 - val_accuracy: 0.1154\n",
            "Epoch 9/50\n",
            "1888/1888 [==============================] - 64s 34ms/step - loss: 5.3624 - accuracy: 0.1683 - val_loss: 7.7142 - val_accuracy: 0.1154\n",
            "Epoch 10/50\n",
            "1888/1888 [==============================] - 64s 34ms/step - loss: 5.3066 - accuracy: 0.1708 - val_loss: 7.7831 - val_accuracy: 0.1115\n",
            "Epoch 11/50\n",
            "1888/1888 [==============================] - 65s 34ms/step - loss: 5.2608 - accuracy: 0.1734 - val_loss: 7.8350 - val_accuracy: 0.1126\n",
            "Epoch 12/50\n",
            "1888/1888 [==============================] - 64s 34ms/step - loss: 5.2242 - accuracy: 0.1757 - val_loss: 7.8953 - val_accuracy: 0.1139\n",
            "Epoch 13/50\n",
            "1888/1888 [==============================] - 64s 34ms/step - loss: 5.1908 - accuracy: 0.1779 - val_loss: 7.9522 - val_accuracy: 0.1132\n",
            "Epoch 14/50\n",
            "1888/1888 [==============================] - 64s 34ms/step - loss: 5.1638 - accuracy: 0.1788 - val_loss: 7.9861 - val_accuracy: 0.1125\n",
            "Epoch 15/50\n",
            "1888/1888 [==============================] - 65s 34ms/step - loss: 5.1411 - accuracy: 0.1804 - val_loss: 8.0500 - val_accuracy: 0.1122\n",
            "Epoch 16/50\n",
            "1888/1888 [==============================] - 65s 34ms/step - loss: 5.1179 - accuracy: 0.1816 - val_loss: 8.0862 - val_accuracy: 0.1114\n",
            "Epoch 17/50\n",
            "1888/1888 [==============================] - 64s 34ms/step - loss: 5.1020 - accuracy: 0.1823 - val_loss: 8.1095 - val_accuracy: 0.1110\n",
            "Epoch 18/50\n",
            "1888/1888 [==============================] - 64s 34ms/step - loss: 5.0858 - accuracy: 0.1841 - val_loss: 8.1542 - val_accuracy: 0.1109\n",
            "Epoch 19/50\n",
            "1888/1888 [==============================] - 65s 34ms/step - loss: 5.0707 - accuracy: 0.1851 - val_loss: 8.1826 - val_accuracy: 0.1109\n",
            "Epoch 20/50\n",
            "1888/1888 [==============================] - 65s 34ms/step - loss: 5.0573 - accuracy: 0.1856 - val_loss: 8.2066 - val_accuracy: 0.1111\n",
            "Epoch 21/50\n",
            "1888/1888 [==============================] - 65s 34ms/step - loss: 5.0457 - accuracy: 0.1851 - val_loss: 8.2510 - val_accuracy: 0.1122\n",
            "Epoch 22/50\n",
            "1888/1888 [==============================] - 65s 34ms/step - loss: 5.0354 - accuracy: 0.1862 - val_loss: 8.2770 - val_accuracy: 0.1115\n",
            "Epoch 23/50\n",
            "1888/1888 [==============================] - 65s 34ms/step - loss: 5.0261 - accuracy: 0.1862 - val_loss: 8.2957 - val_accuracy: 0.1124\n",
            "Epoch 24/50\n",
            "1888/1888 [==============================] - 64s 34ms/step - loss: 5.0175 - accuracy: 0.1863 - val_loss: 8.3411 - val_accuracy: 0.1131\n",
            "Epoch 25/50\n",
            "1888/1888 [==============================] - 64s 34ms/step - loss: 5.0097 - accuracy: 0.1863 - val_loss: 8.3588 - val_accuracy: 0.1137\n",
            "Epoch 26/50\n",
            "1888/1888 [==============================] - 65s 34ms/step - loss: 5.0018 - accuracy: 0.1873 - val_loss: 8.3741 - val_accuracy: 0.1126\n",
            "Epoch 27/50\n",
            "1888/1888 [==============================] - 65s 34ms/step - loss: 4.9943 - accuracy: 0.1873 - val_loss: 8.4299 - val_accuracy: 0.1124\n",
            "Epoch 28/50\n",
            "1888/1888 [==============================] - 64s 34ms/step - loss: 4.9887 - accuracy: 0.1868 - val_loss: 8.4237 - val_accuracy: 0.1120\n",
            "Epoch 29/50\n",
            "1888/1888 [==============================] - 65s 34ms/step - loss: 4.9832 - accuracy: 0.1870 - val_loss: 8.4402 - val_accuracy: 0.1142\n",
            "Epoch 30/50\n",
            "1888/1888 [==============================] - 65s 34ms/step - loss: 4.9763 - accuracy: 0.1878 - val_loss: 8.4861 - val_accuracy: 0.1111\n",
            "Epoch 31/50\n",
            "1888/1888 [==============================] - 65s 34ms/step - loss: 4.9724 - accuracy: 0.1874 - val_loss: 8.5077 - val_accuracy: 0.1113\n",
            "Epoch 32/50\n",
            "1888/1888 [==============================] - 65s 34ms/step - loss: 4.9675 - accuracy: 0.1878 - val_loss: 8.5421 - val_accuracy: 0.1108\n",
            "Epoch 33/50\n",
            "1888/1888 [==============================] - 65s 34ms/step - loss: 4.9630 - accuracy: 0.1880 - val_loss: 8.5573 - val_accuracy: 0.1123\n",
            "Epoch 34/50\n",
            "1888/1888 [==============================] - 64s 34ms/step - loss: 4.9575 - accuracy: 0.1881 - val_loss: 8.5542 - val_accuracy: 0.1135\n",
            "Epoch 35/50\n",
            "1888/1888 [==============================] - 64s 34ms/step - loss: 4.9536 - accuracy: 0.1879 - val_loss: 8.6089 - val_accuracy: 0.1129\n",
            "Epoch 36/50\n",
            "1888/1888 [==============================] - 65s 34ms/step - loss: 4.9488 - accuracy: 0.1879 - val_loss: 8.5959 - val_accuracy: 0.1119\n",
            "Epoch 37/50\n",
            "1888/1888 [==============================] - 65s 34ms/step - loss: 4.9451 - accuracy: 0.1881 - val_loss: 8.6202 - val_accuracy: 0.1112\n",
            "Epoch 38/50\n",
            "1888/1888 [==============================] - 65s 34ms/step - loss: 4.9418 - accuracy: 0.1884 - val_loss: 8.6646 - val_accuracy: 0.1115\n",
            "Epoch 39/50\n",
            "1888/1888 [==============================] - 65s 34ms/step - loss: 4.9383 - accuracy: 0.1885 - val_loss: 8.6772 - val_accuracy: 0.1104\n",
            "Epoch 40/50\n",
            "1888/1888 [==============================] - 65s 34ms/step - loss: 4.9344 - accuracy: 0.1879 - val_loss: 8.6925 - val_accuracy: 0.1111\n",
            "Epoch 41/50\n",
            "1888/1888 [==============================] - 64s 34ms/step - loss: 4.9319 - accuracy: 0.1881 - val_loss: 8.7336 - val_accuracy: 0.1128\n",
            "Epoch 42/50\n",
            "1888/1888 [==============================] - 64s 34ms/step - loss: 4.9278 - accuracy: 0.1884 - val_loss: 8.7374 - val_accuracy: 0.1090\n",
            "Epoch 43/50\n",
            "1888/1888 [==============================] - 65s 34ms/step - loss: 4.9247 - accuracy: 0.1881 - val_loss: 8.7829 - val_accuracy: 0.1109\n",
            "Epoch 44/50\n",
            "1888/1888 [==============================] - 65s 34ms/step - loss: 4.9208 - accuracy: 0.1887 - val_loss: 8.8010 - val_accuracy: 0.1115\n",
            "Epoch 45/50\n",
            "1888/1888 [==============================] - 65s 34ms/step - loss: 4.9199 - accuracy: 0.1884 - val_loss: 8.8260 - val_accuracy: 0.1117\n",
            "Epoch 46/50\n",
            "1888/1888 [==============================] - 65s 34ms/step - loss: 4.9161 - accuracy: 0.1885 - val_loss: 8.8207 - val_accuracy: 0.1117\n",
            "Epoch 47/50\n",
            "1888/1888 [==============================] - 65s 34ms/step - loss: 4.9138 - accuracy: 0.1881 - val_loss: 8.8365 - val_accuracy: 0.1104\n",
            "Epoch 48/50\n",
            "1888/1888 [==============================] - 64s 34ms/step - loss: 4.9114 - accuracy: 0.1882 - val_loss: 8.8676 - val_accuracy: 0.1115\n",
            "Epoch 49/50\n",
            "1888/1888 [==============================] - 64s 34ms/step - loss: 4.9088 - accuracy: 0.1885 - val_loss: 8.8824 - val_accuracy: 0.1132\n",
            "Epoch 50/50\n",
            "1888/1888 [==============================] - 64s 34ms/step - loss: 4.9069 - accuracy: 0.1886 - val_loss: 8.9326 - val_accuracy: 0.1120\n"
          ]
        }
      ],
      "source": [
        "# Train RNN model\n",
        "from keras.optimizers import Adam\n",
        "opt = Adam(learning_rate=0.01)\n",
        "rnn_model_l.compile(loss = 'categorical_crossentropy', optimizer = opt, metrics =['accuracy'])\n",
        "history_large = rnn_model_l.fit(X_train_l, y_train_l, validation_split=0.10, batch_size=128, epochs=50, shuffle=True).history"
      ]
    },
    {
      "cell_type": "code",
      "execution_count": null,
      "id": "423681b5-aac0-4acb-9be2-5259f1f8fa6b",
      "metadata": {
        "id": "423681b5-aac0-4acb-9be2-5259f1f8fa6b"
      },
      "outputs": [],
      "source": [
        "# Save trained model\n",
        "rnn_model_l.save('rnn_model_large.h5')\n",
        "pickle.dump(history_large, open(\"history_rnn_large.p\", \"wb\"))"
      ]
    },
    {
      "cell_type": "code",
      "execution_count": null,
      "id": "1e864136-f29d-436e-abe3-95f5dcba9944",
      "metadata": {
        "id": "1e864136-f29d-436e-abe3-95f5dcba9944"
      },
      "outputs": [],
      "source": [
        "# Load saved trained model\n",
        "rnn_model_l = load_model('rnn_model_large.h5')\n",
        "history_rnn_large = pickle.load(open(\"history_rnn_large.p\", \"rb\"))"
      ]
    },
    {
      "cell_type": "code",
      "execution_count": null,
      "id": "460487c5-d26f-493d-b497-fdb7bd54b8b7",
      "metadata": {
        "id": "460487c5-d26f-493d-b497-fdb7bd54b8b7",
        "outputId": "e9e8a505-7580-429f-9c17-7c3060d31d69"
      },
      "outputs": [
        {
          "data": {
            "text/plain": [
              "<matplotlib.legend.Legend at 0x2b67cdee7a30>"
            ]
          },
          "execution_count": 19,
          "metadata": {},
          "output_type": "execute_result"
        },
        {
          "data": {
            "image/png": "[encoded data removed]",
            "text/plain": [
              "<Figure size 432x288 with 1 Axes>"
            ]
          },
          "metadata": {
            "needs_background": "light"
          },
          "output_type": "display_data"
        }
      ],
      "source": [
        "# Plot training and validation accuracy\n",
        "import matplotlib.pyplot as plt \n",
        "\n",
        "plt.plot(history_rnn_large['accuracy'])\n",
        "plt.plot(history_rnn_large['val_accuracy'])\n",
        "plt.title('model accuracy')\n",
        "plt.ylabel('accuracy')\n",
        "plt.xlabel('epoch')\n",
        "plt.legend(['train', 'test'], loc='upper left')"
      ]
    },
    {
      "cell_type": "code",
      "execution_count": null,
      "id": "c300a896-36b9-48bd-9703-a3b63e67a9a1",
      "metadata": {
        "id": "c300a896-36b9-48bd-9703-a3b63e67a9a1",
        "outputId": "06512488-f81d-4492-ffba-88d92058114a"
      },
      "outputs": [
        {
          "name": "stdout",
          "output_type": "stream",
          "text": [
            "2097/2097 [==============================] - 6s 2ms/step\n"
          ]
        }
      ],
      "source": [
        "y_pred_rnn_l = rnn_model_l.predict(X_test_l)"
      ]
    },
    {
      "cell_type": "code",
      "execution_count": null,
      "id": "5ceb4ec8-2a0a-43f0-a5ea-a2e64aaeec7a",
      "metadata": {
        "id": "5ceb4ec8-2a0a-43f0-a5ea-a2e64aaeec7a",
        "outputId": "d884cad6-2c22-4a45-dc5c-dc6fd4ffea10"
      },
      "outputs": [
        {
          "name": "stdout",
          "output_type": "stream",
          "text": [
            "Root Mean Square Error: 0.002673774\n"
          ]
        }
      ],
      "source": [
        "from sklearn.metrics import mean_squared_error\n",
        "\n",
        "rnn_rmse = mean_squared_error(y_test_l, y_pred_rnn_l, squared=False)\n",
        "print(\"Root Mean Square Error:\",rnn_rmse)"
      ]
    },
    {
      "cell_type": "markdown",
      "id": "5e01488d-b5b9-42a6-8a47-97751a24b0b6",
      "metadata": {
        "id": "5e01488d-b5b9-42a6-8a47-97751a24b0b6"
      },
      "source": [
        "## Multilayer Perceptron Model (MLP)"
      ]
    },
    {
      "cell_type": "code",
      "execution_count": null,
      "id": "e7883d49-0fa5-4698-8466-44e5c2a32fba",
      "metadata": {
        "id": "e7883d49-0fa5-4698-8466-44e5c2a32fba",
        "outputId": "69b2f1fa-00ab-47de-fcfe-4e451ae4a3f6"
      },
      "outputs": [
        {
          "name": "stdout",
          "output_type": "stream",
          "text": [
            "Model: \"sequential_2\"\n",
            "_________________________________________________________________\n",
            " Layer (type)                Output Shape              Param #   \n",
            "=================================================================\n",
            " dense_6 (Dense)             (None, 16)                32        \n",
            "                                                                 \n",
            " dense_7 (Dense)             (None, 8)                 136       \n",
            "                                                                 \n",
            " dense_8 (Dense)             (None, 1)                 9         \n",
            "                                                                 \n",
            "=================================================================\n",
            "Total params: 177\n",
            "Trainable params: 177\n",
            "Non-trainable params: 0\n",
            "_________________________________________________________________\n",
            "None\n"
          ]
        }
      ],
      "source": [
        "from keras.models import Sequential\n",
        "from keras.layers import Dense\n",
        "from keras.layers import LSTM\n",
        "from keras.layers import Embedding\n",
        "\n",
        "input_shape = (1,)\n",
        "mlp_model = Sequential()\n",
        "mlp_model.add(Dense(16, input_shape= input_shape))\n",
        "mlp_model.add(Dense(8, activation='relu'))\n",
        "mlp_model.add(Dense(1, activation='linear'))\n",
        "print(mlp_model.summary())"
      ]
    },
    {
      "cell_type": "markdown",
      "id": "870f5d46-d071-409c-a373-a4e1dea1b99c",
      "metadata": {
        "id": "870f5d46-d071-409c-a373-a4e1dea1b99c"
      },
      "source": [
        "#### Train MLP for 10K subset data"
      ]
    },
    {
      "cell_type": "code",
      "execution_count": null,
      "id": "e4f016f9-d1aa-4d03-9852-d2c8145143f8",
      "metadata": {
        "id": "e4f016f9-d1aa-4d03-9852-d2c8145143f8",
        "outputId": "dc0fde80-05ca-416f-981f-4e7ba24a7940"
      },
      "outputs": [
        {
          "name": "stdout",
          "output_type": "stream",
          "text": [
            "Epoch 1/10\n",
            "1263/1263 [==============================] - 21s 16ms/step - loss: 1.9085 - accuracy: 0.8679 - val_loss: 0.3494 - val_accuracy: 0.8251\n",
            "Epoch 2/10\n",
            "1263/1263 [==============================] - 19s 15ms/step - loss: 0.4215 - accuracy: 0.9103 - val_loss: 0.3407 - val_accuracy: 0.8271\n",
            "Epoch 3/10\n",
            "1263/1263 [==============================] - 19s 15ms/step - loss: 0.3224 - accuracy: 0.9228 - val_loss: 0.1388 - val_accuracy: 1.0000\n",
            "Epoch 4/10\n",
            "1263/1263 [==============================] - 19s 15ms/step - loss: 0.2720 - accuracy: 0.9319 - val_loss: 0.2078 - val_accuracy: 0.8774\n",
            "Epoch 5/10\n",
            "1263/1263 [==============================] - 19s 15ms/step - loss: 0.2397 - accuracy: 0.9369 - val_loss: 0.0678 - val_accuracy: 0.9614\n",
            "Epoch 6/10\n",
            "1263/1263 [==============================] - 19s 15ms/step - loss: 0.2172 - accuracy: 0.9443 - val_loss: 0.1322 - val_accuracy: 1.0000\n",
            "Epoch 7/10\n",
            "1263/1263 [==============================] - 19s 15ms/step - loss: 0.1999 - accuracy: 0.9473 - val_loss: 0.1313 - val_accuracy: 0.9174\n",
            "Epoch 8/10\n",
            "1263/1263 [==============================] - 19s 15ms/step - loss: 0.1856 - accuracy: 0.9487 - val_loss: 0.3153 - val_accuracy: 1.0000\n",
            "Epoch 9/10\n",
            "1263/1263 [==============================] - 19s 15ms/step - loss: 0.1741 - accuracy: 0.9500 - val_loss: 0.0928 - val_accuracy: 0.9438\n",
            "Epoch 10/10\n",
            "1263/1263 [==============================] - 19s 15ms/step - loss: 0.1648 - accuracy: 0.9535 - val_loss: 0.0169 - val_accuracy: 1.0000\n"
          ]
        }
      ],
      "source": [
        "# Train MLP model\n",
        "from keras.optimizers import Adagrad\n",
        "\n",
        "opt = Adagrad(learning_rate=0.001)\n",
        "mlp_model.compile(loss='mean_absolute_error', optimizer=opt, metrics=['accuracy'])\n",
        "history_mlp = mlp_model.fit(X_train, y_train, epochs=10, batch_size=128, verbose=1, validation_split=0.10, shuffle=True).history"
      ]
    },
    {
      "cell_type": "code",
      "execution_count": null,
      "id": "e5421992-99b0-456f-bd2c-c80f47ee6b2d",
      "metadata": {
        "id": "e5421992-99b0-456f-bd2c-c80f47ee6b2d"
      },
      "outputs": [],
      "source": [
        "# Save trained model\n",
        "mlp_model.save('mlp_model.h5')\n",
        "pickle.dump(history_mlp, open(\"history_mlp.p\", \"wb\"))"
      ]
    },
    {
      "cell_type": "code",
      "execution_count": null,
      "id": "277f8ce7-077b-41be-86f0-ef18f8deeb42",
      "metadata": {
        "id": "277f8ce7-077b-41be-86f0-ef18f8deeb42"
      },
      "outputs": [],
      "source": [
        "# Load trained model\n",
        "mlp_model = load_model('mlp_model.h5')\n",
        "history_mlp = pickle.load(open(\"history_mlp.p\", \"rb\"))"
      ]
    },
    {
      "cell_type": "code",
      "execution_count": null,
      "id": "6ddb2368-b08d-40a0-b0a8-0bc5c77d2373",
      "metadata": {
        "id": "6ddb2368-b08d-40a0-b0a8-0bc5c77d2373",
        "outputId": "60b63c3d-cda3-40e9-a855-8f6a05c5c852"
      },
      "outputs": [
        {
          "data": {
            "text/plain": [
              "<matplotlib.legend.Legend at 0x2ad72f753c70>"
            ]
          },
          "execution_count": 27,
          "metadata": {},
          "output_type": "execute_result"
        },
        {
          "data": {
            "image/png": "[encoded data removed]",
            "text/plain": [
              "<Figure size 432x288 with 1 Axes>"
            ]
          },
          "metadata": {
            "needs_background": "light"
          },
          "output_type": "display_data"
        }
      ],
      "source": [
        "# Plot training and validation accuracy\n",
        "import matplotlib.pyplot as plt\n",
        "plt.plot(history_mlp['accuracy'])\n",
        "plt.plot(history_mlp['val_accuracy'])\n",
        "plt.title('model accuracy')\n",
        "plt.ylabel('accuracy')\n",
        "plt.xlabel('epoch')\n",
        "plt.legend(['train', 'test'], loc='upper left')"
      ]
    },
    {
      "cell_type": "code",
      "execution_count": null,
      "id": "6af84e23-fce7-4d3c-89aa-759a24187235",
      "metadata": {
        "id": "6af84e23-fce7-4d3c-89aa-759a24187235",
        "outputId": "815f60c3-5542-40f3-d1e3-f6f09edd2255"
      },
      "outputs": [
        {
          "name": "stdout",
          "output_type": "stream",
          "text": [
            "1403/1403 [==============================] - 1s 668us/step\n"
          ]
        }
      ],
      "source": [
        "y_pred_mlp = mlp_model.predict(X_test)\n",
        "y_pred_mlp =to_categorical(y_pred_mlp,num_classes =vocab_length)"
      ]
    },
    {
      "cell_type": "code",
      "execution_count": null,
      "id": "0c0114b8-d6bb-40f7-9e54-f20048a27fbf",
      "metadata": {
        "id": "0c0114b8-d6bb-40f7-9e54-f20048a27fbf",
        "outputId": "3556cd37-b5da-49f3-8116-72324477ddfa"
      },
      "outputs": [
        {
          "data": {
            "text/plain": [
              "0.0029561322"
            ]
          },
          "execution_count": 65,
          "metadata": {},
          "output_type": "execute_result"
        }
      ],
      "source": [
        "from sklearn.metrics import mean_squared_error\n",
        "\n",
        "rms = mean_squared_error(y_test, y_pred_mlp, squared=False)\n",
        "rms"
      ]
    },
    {
      "cell_type": "markdown",
      "id": "11679bd8-59ea-4d03-bbf3-fc1d2fb742f7",
      "metadata": {
        "id": "11679bd8-59ea-4d03-bbf3-fc1d2fb742f7"
      },
      "source": [
        "#### Train 15K subset data"
      ]
    },
    {
      "cell_type": "code",
      "execution_count": null,
      "id": "f5c9c298-0fda-49f8-be6a-6d0a4d4bea26",
      "metadata": {
        "id": "f5c9c298-0fda-49f8-be6a-6d0a4d4bea26",
        "outputId": "33ff8a4c-6c79-48a6-fa25-0a1a9afd154e"
      },
      "outputs": [
        {
          "name": "stdout",
          "output_type": "stream",
          "text": [
            "Epoch 1/10\n",
            "1888/1888 [==============================] - 40s 21ms/step - loss: 0.1858 - accuracy: 0.9525 - val_loss: 0.3981 - val_accuracy: 0.8199\n",
            "Epoch 2/10\n",
            "1888/1888 [==============================] - 35s 19ms/step - loss: 0.1721 - accuracy: 0.9535 - val_loss: 0.0285 - val_accuracy: 1.0000\n",
            "Epoch 3/10\n",
            "1888/1888 [==============================] - 36s 19ms/step - loss: 0.1609 - accuracy: 0.9574 - val_loss: 0.0490 - val_accuracy: 1.0000\n",
            "Epoch 4/10\n",
            "1888/1888 [==============================] - 36s 19ms/step - loss: 0.1520 - accuracy: 0.9593 - val_loss: 0.7945 - val_accuracy: 0.7390\n",
            "Epoch 5/10\n",
            "1888/1888 [==============================] - 36s 19ms/step - loss: 0.1450 - accuracy: 0.9611 - val_loss: 0.2396 - val_accuracy: 1.0000\n",
            "Epoch 6/10\n",
            "1888/1888 [==============================] - 36s 19ms/step - loss: 0.1376 - accuracy: 0.9632 - val_loss: 0.0774 - val_accuracy: 1.0000\n",
            "Epoch 7/10\n",
            "1888/1888 [==============================] - 36s 19ms/step - loss: 0.1317 - accuracy: 0.9635 - val_loss: 0.2355 - val_accuracy: 0.8729\n",
            "Epoch 8/10\n",
            "1888/1888 [==============================] - 35s 19ms/step - loss: 0.1263 - accuracy: 0.9656 - val_loss: 0.4937 - val_accuracy: 1.0000\n",
            "Epoch 9/10\n",
            "1888/1888 [==============================] - 35s 19ms/step - loss: 0.1221 - accuracy: 0.9666 - val_loss: 0.0811 - val_accuracy: 1.0000\n",
            "Epoch 10/10\n",
            "1888/1888 [==============================] - 36s 19ms/step - loss: 0.1177 - accuracy: 0.9651 - val_loss: 0.1868 - val_accuracy: 0.8914\n"
          ]
        }
      ],
      "source": [
        "# Train MLP model\n",
        "history_mlp_l = mlp_model.fit(X_train_l, y_train_l, epochs=10, batch_size=128, verbose=1, validation_split=0.10, shuffle=True).history"
      ]
    },
    {
      "cell_type": "code",
      "execution_count": null,
      "id": "ec72637c-0f33-4cf4-b61a-118f7aacfa39",
      "metadata": {
        "id": "ec72637c-0f33-4cf4-b61a-118f7aacfa39"
      },
      "outputs": [],
      "source": [
        "# Save trained model\n",
        "mlp_model.save('mlp_model_large.h5')\n",
        "pickle.dump(history_mlp_l, open(\"history_mlp_large.p\", \"wb\"))"
      ]
    },
    {
      "cell_type": "code",
      "execution_count": null,
      "id": "de6c0dcb-0905-4e8c-82df-8f3e5e0ef83f",
      "metadata": {
        "id": "de6c0dcb-0905-4e8c-82df-8f3e5e0ef83f"
      },
      "outputs": [],
      "source": [
        "# Load trained model\n",
        "mlp_model_large = load_model('mlp_model_large.h5')\n",
        "history_mlp_large = pickle.load(open(\"history_mlp_large.p\", \"rb\"))"
      ]
    },
    {
      "cell_type": "code",
      "execution_count": null,
      "id": "e8d93e2f-66a1-4568-92be-0618f1660807",
      "metadata": {
        "id": "e8d93e2f-66a1-4568-92be-0618f1660807",
        "outputId": "f329c7ac-fb91-48db-928f-20586f01e7eb"
      },
      "outputs": [
        {
          "data": {
            "text/plain": [
              "<matplotlib.legend.Legend at 0x2adb8ccb3d90>"
            ]
          },
          "execution_count": 31,
          "metadata": {},
          "output_type": "execute_result"
        },
        {
          "data": {
            "image/png": "[encoded data removed]",
            "text/plain": [
              "<Figure size 432x288 with 1 Axes>"
            ]
          },
          "metadata": {
            "needs_background": "light"
          },
          "output_type": "display_data"
        }
      ],
      "source": [
        "# Plot training and validation accuracy\n",
        "plt.plot(history_mlp_large['accuracy'])\n",
        "plt.plot(history_mlp_large['val_accuracy'])\n",
        "plt.title('model accuracy')\n",
        "plt.ylabel('accuracy')\n",
        "plt.xlabel('epoch')\n",
        "plt.legend(['train', 'test'], loc='upper left')"
      ]
    },
    {
      "cell_type": "code",
      "execution_count": null,
      "id": "a0c59385-c22d-4f58-a0f3-74d330693309",
      "metadata": {
        "id": "a0c59385-c22d-4f58-a0f3-74d330693309",
        "outputId": "e9263187-ba25-4084-e51c-1a8fb0dddc6a"
      },
      "outputs": [
        {
          "name": "stdout",
          "output_type": "stream",
          "text": [
            "2097/2097 [==============================] - 1s 634us/step\n"
          ]
        }
      ],
      "source": [
        "y_pred_mlp = mlp_model_large.predict(X_test_l)\n",
        "y_pred_mlp = to_categorical(y_pred_mlp, num_classes = vocab_length_large)"
      ]
    },
    {
      "cell_type": "code",
      "execution_count": null,
      "id": "008300f2-ddbe-437a-b666-504d3de2a7ba",
      "metadata": {
        "id": "008300f2-ddbe-437a-b666-504d3de2a7ba",
        "outputId": "5521fc4e-cb41-4a1c-937e-21e069ca582a"
      },
      "outputs": [
        {
          "data": {
            "text/plain": [
              "0.0025541007"
            ]
          },
          "execution_count": 67,
          "metadata": {},
          "output_type": "execute_result"
        }
      ],
      "source": [
        "from sklearn.metrics import mean_squared_error\n",
        "\n",
        "rms = mean_squared_error(y_pred_mlp, y_test_l, squared=False)\n",
        "rms"
      ]
    },
    {
      "cell_type": "markdown",
      "id": "44198a13-2290-49c9-9ba9-32d14a024206",
      "metadata": {
        "id": "44198a13-2290-49c9-9ba9-32d14a024206"
      },
      "source": [
        "## CNN Model"
      ]
    },
    {
      "cell_type": "code",
      "execution_count": null,
      "id": "167551a2-9066-4c2f-9ff2-16743e8aebb2",
      "metadata": {
        "id": "167551a2-9066-4c2f-9ff2-16743e8aebb2",
        "outputId": "d1c1f26c-2b4c-4d77-f62e-73acfae8b280"
      },
      "outputs": [
        {
          "name": "stdout",
          "output_type": "stream",
          "text": [
            "Model: \"sequential\"\n",
            "_________________________________________________________________\n",
            " Layer (type)                Output Shape              Param #   \n",
            "=================================================================\n",
            " embedding (Embedding)       (None, 1, 10)             232690    \n",
            "                                                                 \n",
            " conv1d (Conv1D)             (None, 1, 1)              31        \n",
            "                                                                 \n",
            " flatten (Flatten)           (None, 1)                 0         \n",
            "                                                                 \n",
            " dense (Dense)               (None, 23269)             46538     \n",
            "                                                                 \n",
            " dense_1 (Dense)             (None, 23269)             541469630 \n",
            "                                                                 \n",
            "=================================================================\n",
            "Total params: 541,748,889\n",
            "Trainable params: 541,748,889\n",
            "Non-trainable params: 0\n",
            "_________________________________________________________________\n",
            "None\n"
          ]
        }
      ],
      "source": [
        "from keras.layers import Flatten\n",
        "\n",
        "from keras.layers.convolutional import Conv1D\n",
        "from keras.layers.convolutional import MaxPooling1D\n",
        "\n",
        "cnn_model = Sequential()  \n",
        "cnn_model.add(Embedding(vocab_length, 10,input_length = 1))\n",
        "cnn_model.add(Conv1D(1, 3, padding='same', activation='relu'))\n",
        "#cnn_model.add(MaxPooling1D())\n",
        "cnn_model.add(Flatten())\n",
        "cnn_model.add(Dense(vocab_length, activation='relu'))\n",
        "cnn_model.add(Dense(vocab_length, activation='sigmoid'))\n",
        "print(cnn_model.summary())"
      ]
    },
    {
      "cell_type": "markdown",
      "id": "6ae7ac38-e9d2-471b-9ad5-b3b1cecb0a9a",
      "metadata": {
        "id": "6ae7ac38-e9d2-471b-9ad5-b3b1cecb0a9a"
      },
      "source": [
        "#### Train for 10K subset data"
      ]
    },
    {
      "cell_type": "code",
      "execution_count": null,
      "id": "3c1bf5b9-99e6-40e9-af25-cfd55bfa946e",
      "metadata": {
        "id": "3c1bf5b9-99e6-40e9-af25-cfd55bfa946e",
        "outputId": "47e20385-d8c4-41c7-bc31-906467df7c27"
      },
      "outputs": [
        {
          "name": "stdout",
          "output_type": "stream",
          "text": [
            "Epoch 1/3\n",
            "316/316 [==============================] - 3690s 12s/step - loss: 7.6295 - accuracy: 0.0613 - val_loss: 7.4166 - val_accuracy: 0.0602\n",
            "Epoch 2/3\n",
            "316/316 [==============================] - 3650s 12s/step - loss: 7.2382 - accuracy: 0.0660 - val_loss: 7.3787 - val_accuracy: 0.0684\n",
            "Epoch 3/3\n",
            "316/316 [==============================] - 3650s 12s/step - loss: 7.1109 - accuracy: 0.0721 - val_loss: 7.3775 - val_accuracy: 0.0718\n"
          ]
        }
      ],
      "source": [
        "# Train CNN model\n",
        "cnn_model.compile(loss='categorical_crossentropy', optimizer='adam', metrics=['accuracy'])\n",
        "history_cnn = cnn_model.fit(X_train,y_train,epochs= 3, batch_size=512, verbose=1,validation_split=0.1, shuffle=True).history"
      ]
    },
    {
      "cell_type": "code",
      "execution_count": null,
      "id": "217b3f6d-558b-48b1-b0c1-1881e8cc6aed",
      "metadata": {
        "id": "217b3f6d-558b-48b1-b0c1-1881e8cc6aed"
      },
      "outputs": [],
      "source": [
        "# Save trained model\n",
        "cnn_model.save('cnn_model.h5')\n",
        "pickle.dump(history_cnn, open(\"history_cnn.p\", \"wb\"))"
      ]
    },
    {
      "cell_type": "code",
      "execution_count": null,
      "id": "69abe9bf-b065-4725-b3c2-3da14e0c7c92",
      "metadata": {
        "id": "69abe9bf-b065-4725-b3c2-3da14e0c7c92"
      },
      "outputs": [],
      "source": [
        "# Load trained model\n",
        "cnn_model = load_model('cnn_model.h5')\n",
        "history_cnn = pickle.load(open(\"history_cnn.p\", \"rb\"))"
      ]
    },
    {
      "cell_type": "code",
      "execution_count": null,
      "id": "a454d97a-3756-435e-b554-346b1bdd7963",
      "metadata": {
        "id": "a454d97a-3756-435e-b554-346b1bdd7963",
        "outputId": "374a84ab-33f2-45df-e319-f816a14d305b"
      },
      "outputs": [
        {
          "data": {
            "text/plain": [
              "<matplotlib.legend.Legend at 0x2ae15fb56d30>"
            ]
          },
          "execution_count": 22,
          "metadata": {},
          "output_type": "execute_result"
        },
        {
          "data": {
            "image/png": "[encoded data removed]",
            "text/plain": [
              "<Figure size 432x288 with 1 Axes>"
            ]
          },
          "metadata": {
            "needs_background": "light"
          },
          "output_type": "display_data"
        }
      ],
      "source": [
        "# Plot training and validation accuracy\n",
        "import matplotlib.pyplot as plt\n",
        "plt.plot(history_cnn['accuracy'])\n",
        "plt.plot(history_cnn['val_accuracy'])\n",
        "plt.title('model accuracy')\n",
        "plt.ylabel('accuracy')\n",
        "plt.xlabel('epoch')\n",
        "plt.legend(['train', 'test'], loc='upper left')"
      ]
    },
    {
      "cell_type": "code",
      "execution_count": null,
      "id": "99b295ca-be21-48fa-b1bd-b256dbe8ea18",
      "metadata": {
        "id": "99b295ca-be21-48fa-b1bd-b256dbe8ea18",
        "outputId": "0529e8dc-ee2e-4527-b28a-d2b321a5ac0f"
      },
      "outputs": [
        {
          "name": "stdout",
          "output_type": "stream",
          "text": [
            "1403/1403 [==============================] - 1083s 771ms/step\n"
          ]
        }
      ],
      "source": [
        "y_pred_cnn = cnn_model.predict(X_test)"
      ]
    },
    {
      "cell_type": "code",
      "execution_count": null,
      "id": "8c326e43-7fc2-4e9c-a013-fc5cc5fc4be2",
      "metadata": {
        "id": "8c326e43-7fc2-4e9c-a013-fc5cc5fc4be2",
        "outputId": "f4454402-6d92-4506-d5ff-4c595c5898af"
      },
      "outputs": [
        {
          "data": {
            "text/plain": [
              "0.12290194"
            ]
          },
          "execution_count": 24,
          "metadata": {},
          "output_type": "execute_result"
        }
      ],
      "source": [
        "from sklearn.metrics import mean_squared_error\n",
        "\n",
        "rms = mean_squared_error(y_pred_cnn, y_test, squared=False)\n",
        "rms"
      ]
    },
    {
      "cell_type": "markdown",
      "id": "434346f6-11a2-4d9e-97ac-e41388c82db2",
      "metadata": {
        "id": "434346f6-11a2-4d9e-97ac-e41388c82db2"
      },
      "source": [
        "#### Train for 15K subset data"
      ]
    },
    {
      "cell_type": "code",
      "execution_count": null,
      "id": "b9e921c9-1dea-4ce9-8f1f-c19eb5bdeb3c",
      "metadata": {
        "id": "b9e921c9-1dea-4ce9-8f1f-c19eb5bdeb3c",
        "outputId": "cbd01fb9-2b36-4087-febf-85e4f72a2736"
      },
      "outputs": [
        {
          "name": "stdout",
          "output_type": "stream",
          "text": [
            "Model: \"sequential_1\"\n",
            "_________________________________________________________________\n",
            " Layer (type)                Output Shape              Param #   \n",
            "=================================================================\n",
            " embedding_1 (Embedding)     (None, 1, 10)             290560    \n",
            "                                                                 \n",
            " conv1d_1 (Conv1D)           (None, 1, 1)              31        \n",
            "                                                                 \n",
            " flatten_1 (Flatten)         (None, 1)                 0         \n",
            "                                                                 \n",
            " dense_2 (Dense)             (None, 29056)             58112     \n",
            "                                                                 \n",
            " dense_3 (Dense)             (None, 29056)             844280192 \n",
            "                                                                 \n",
            "=================================================================\n",
            "Total params: 844,628,895\n",
            "Trainable params: 844,628,895\n",
            "Non-trainable params: 0\n",
            "_________________________________________________________________\n",
            "None\n"
          ]
        }
      ],
      "source": [
        "from keras.layers import Flatten\n",
        "\n",
        "from keras.layers.convolutional import Conv1D\n",
        "from keras.layers.convolutional import MaxPooling1D\n",
        "\n",
        "cnn_model = Sequential()  \n",
        "cnn_model.add(Embedding(vocab_length_large, 10,input_length = 1))\n",
        "cnn_model.add(Conv1D(1, 3, padding='same', activation='relu'))\n",
        "#cnn_model.add(MaxPooling1D())\n",
        "cnn_model.add(Flatten())\n",
        "cnn_model.add(Dense(vocab_length_large, activation='relu'))\n",
        "cnn_model.add(Dense(vocab_length_large, activation='sigmoid'))\n",
        "print(cnn_model.summary())"
      ]
    },
    {
      "cell_type": "code",
      "execution_count": null,
      "id": "810636f4-cd5d-4c00-9cbd-41c563a4dfd2",
      "metadata": {
        "id": "810636f4-cd5d-4c00-9cbd-41c563a4dfd2",
        "outputId": "55e19fa2-8309-4b16-e71c-dda1a138ffb1"
      },
      "outputs": [
        {
          "name": "stdout",
          "output_type": "stream",
          "text": [
            "Epoch 1/3\n",
            "472/472 [==============================] - 6308s 13s/step - loss: 7.5836 - accuracy: 0.0616 - val_loss: 7.3720 - val_accuracy: 0.0654\n",
            "Epoch 2/3\n",
            "472/472 [==============================] - 6820s 14s/step - loss: 7.2048 - accuracy: 0.0693 - val_loss: 7.3278 - val_accuracy: 0.0704\n",
            "Epoch 3/3\n",
            "472/472 [==============================] - 6813s 14s/step - loss: 7.0923 - accuracy: 0.0744 - val_loss: 7.3328 - val_accuracy: 0.0714\n"
          ]
        }
      ],
      "source": [
        "# Train CNN model\n",
        "cnn_model.compile(loss='categorical_crossentropy', optimizer='adam', metrics=['accuracy'])\n",
        "history_cnn_large = cnn_model.fit(X_train_l,y_train_l, epochs= 3, batch_size=512, verbose=1,validation_split=0.1, shuffle=True).history"
      ]
    },
    {
      "cell_type": "code",
      "execution_count": null,
      "id": "f0284c13-47fc-4b29-9c01-3b2594d674ec",
      "metadata": {
        "id": "f0284c13-47fc-4b29-9c01-3b2594d674ec"
      },
      "outputs": [],
      "source": [
        "# Save trained model\n",
        "cnn_model.save('cnn_model_large.h5')\n",
        "pickle.dump(history_cnn_large, open(\"history_cnn_large.p\", \"wb\"))"
      ]
    },
    {
      "cell_type": "code",
      "execution_count": null,
      "id": "aa6788a5-346f-4ac1-9284-fadd57c5e0a3",
      "metadata": {
        "id": "aa6788a5-346f-4ac1-9284-fadd57c5e0a3"
      },
      "outputs": [],
      "source": [
        "# Load trained model\n",
        "cnn_model_large = load_model('cnn_model_large.h5')\n",
        "history_cnn_large = pickle.load(open(\"history_cnn_large.p\", \"rb\"))"
      ]
    },
    {
      "cell_type": "code",
      "execution_count": null,
      "id": "118d672d-c488-4c3c-af9d-3dace046368f",
      "metadata": {
        "id": "118d672d-c488-4c3c-af9d-3dace046368f",
        "outputId": "f5b49efb-7c38-4fd9-b887-c48939de7b84"
      },
      "outputs": [
        {
          "data": {
            "text/plain": [
              "<matplotlib.legend.Legend at 0x2b188598d250>"
            ]
          },
          "execution_count": 54,
          "metadata": {},
          "output_type": "execute_result"
        },
        {
          "data": {
            "image/png": "[encoded data removed]",
            "text/plain": [
              "<Figure size 432x288 with 1 Axes>"
            ]
          },
          "metadata": {
            "needs_background": "light"
          },
          "output_type": "display_data"
        }
      ],
      "source": [
        "# Plot training and validation accuracy\n",
        "plt.plot(history_cnn_large['accuracy'])\n",
        "plt.plot(history_cnn_large['val_accuracy'])\n",
        "plt.title('model accuracy')\n",
        "plt.ylabel('accuracy')\n",
        "plt.xlabel('epoch')\n",
        "plt.legend(['train', 'test'], loc='upper left')"
      ]
    },
    {
      "cell_type": "code",
      "execution_count": null,
      "id": "6f976848-7a42-4700-9375-d03965ff1b41",
      "metadata": {
        "id": "6f976848-7a42-4700-9375-d03965ff1b41",
        "outputId": "f48f3a76-734a-4edb-8e4c-d7da63490420"
      },
      "outputs": [
        {
          "name": "stdout",
          "output_type": "stream",
          "text": [
            "2097/2097 [==============================] - 1916s 913ms/step\n"
          ]
        }
      ],
      "source": [
        "y_pred_cnn = cnn_model.predict(X_test_l)"
      ]
    },
    {
      "cell_type": "code",
      "execution_count": null,
      "id": "38080c06-2280-448b-b52d-9925997b1f49",
      "metadata": {
        "id": "38080c06-2280-448b-b52d-9925997b1f49",
        "outputId": "0d5673ba-9b6d-48f0-98a5-ca3a1f9bf981"
      },
      "outputs": [
        {
          "name": "stdout",
          "output_type": "stream",
          "text": [
            "Root Mean Square Error: 0.1043818\n"
          ]
        }
      ],
      "source": [
        "from sklearn.metrics import mean_squared_error\n",
        "\n",
        "rms = mean_squared_error(y_pred_cnn, y_test_l, squared=False)\n",
        "print(\"Root Mean Square Error:\",rms)"
      ]
    },
    {
      "cell_type": "markdown",
      "id": "69140ec7-3b89-4df6-9d96-505c1708a00c",
      "metadata": {
        "id": "69140ec7-3b89-4df6-9d96-505c1708a00c"
      },
      "source": [
        "## KNN Model"
      ]
    },
    {
      "cell_type": "code",
      "execution_count": null,
      "id": "3fe2f281-e726-4533-b58f-67fb45823eac",
      "metadata": {
        "id": "3fe2f281-e726-4533-b58f-67fb45823eac"
      },
      "outputs": [],
      "source": [
        "from sklearn.impute import KNNImputer\n",
        "from tqdm import tqdm\n",
        "from keras.preprocessing.text import Tokenizer\n",
        "from tensorflow.keras.preprocessing.sequence import pad_sequences\n",
        "import random\n",
        "import matplotlib.pyplot as plt"
      ]
    },
    {
      "cell_type": "code",
      "execution_count": null,
      "id": "200843d7-4711-45b4-a846-5fbc34c4aa19",
      "metadata": {
        "id": "200843d7-4711-45b4-a846-5fbc34c4aa19",
        "outputId": "666d1e7f-c99d-4412-b9a2-4f47172a5d8b"
      },
      "outputs": [
        {
          "name": "stderr",
          "output_type": "stream",
          "text": [
            "100%|██████████| 15000/15000 [00:00<00:00, 16297.14it/s]\n"
          ]
        }
      ],
      "source": [
        "final_df = pd.DataFrame(df_large['lemmatized'])\n",
        "knn_strings = []\n",
        "knn_len = []\n",
        "for i in tqdm(range(final_df.shape[0])):\n",
        "    len_row = len(final_df.iloc[i,0])\n",
        "    knn_len.append(len_row)\n",
        "    temp = np.array(final_df.iloc[i,0])\n",
        "    temp_str = \" \".join(temp)\n",
        "    knn_strings.append(temp_str.lower())\n",
        "\n",
        "knn_tokenizer = Tokenizer()\n",
        "knn_tokenizer.fit_on_texts(knn_strings)\n",
        "knn_encoded_data = knn_tokenizer.texts_to_sequences(knn_strings)\n",
        "knn_encoded_data = pad_sequences(knn_encoded_data, padding='post', value=0)\n",
        "knn_encoded_data = knn_encoded_data.astype(float)"
      ]
    },
    {
      "cell_type": "code",
      "execution_count": null,
      "id": "afc68aa0-9c2c-4262-b4e8-ea8056481cdd",
      "metadata": {
        "id": "afc68aa0-9c2c-4262-b4e8-ea8056481cdd"
      },
      "outputs": [],
      "source": [
        "def runKnn(knn_encoded_data, knn_missing_value, knn_expected_value, missing_positions, missing_data_size, n_neighbor):\n",
        "    imputer = KNNImputer(n_neighbors=n_neighbor)\n",
        "    imputer.fit(knn_encoded_data)\n",
        "    knn_output = imputer.transform(knn_missing_value)\n",
        "\n",
        "    correct_guess = 0\n",
        "    counter = 0\n",
        "    for i in range(missing_data_size):\n",
        "        if missing_positions[i] > 0:\n",
        "            if -1.0 < knn_expected_value[i][missing_positions[i]] - knn_output[i][missing_positions[i]] < 1.0:\n",
        "                correct_guess += 1\n",
        "    return ( correct_guess / missing_data_size ) * 100"
      ]
    },
    {
      "cell_type": "code",
      "execution_count": null,
      "id": "2215645a-3756-4809-9692-9531a615ad1f",
      "metadata": {
        "id": "2215645a-3756-4809-9692-9531a615ad1f"
      },
      "outputs": [],
      "source": [
        "def runKnnForDataset(datasetSize, train_test_ratio):\n",
        "    if datasetSize <= len(knn_encoded_data) and train_test_ratio < 1.0:\n",
        "        print('Running KNN for dataset size:', datasetSize)\n",
        "\n",
        "        current_data_set = np.copy(knn_encoded_data[:datasetSize])\n",
        "        \n",
        "        missing_data_size = int(datasetSize * (1 - train_test_ratio))\n",
        "        missing_positions = []\n",
        "        for i in range(missing_data_size):\n",
        "            if knn_len[i] > 3:\n",
        "                missing_positions.append(random.randint(1,(knn_len[i]-1)))\n",
        "            else:\n",
        "                missing_positions.append(-1)\n",
        "\n",
        "        knn_train_data = np.copy(current_data_set[missing_data_size:])\n",
        "        knn_test_data = np.copy(current_data_set[0:missing_data_size])\n",
        "        knn_test_output = np.copy(current_data_set[0:missing_data_size])\n",
        "        \n",
        "        for i in range(len(missing_positions)):\n",
        "            if missing_positions[i] > 0:\n",
        "                knn_test_data[i][missing_positions[i]] = np.nan\n",
        "\n",
        "        runStats = {}\n",
        "        for i in range(1,10):\n",
        "            runStats[i] = runKnn(knn_train_data,\n",
        "                                    knn_test_data,\n",
        "                                    knn_test_output,\n",
        "                                    missing_positions,\n",
        "                                    missing_data_size,\n",
        "                                    i)\n",
        "            print('\\t Accuracy for n_neighbour:' + str(i) + ' is => ' + str(runStats[i]))\n",
        "            \n",
        "        # Plot graph\n",
        "        plt.plot(runStats.values())\n",
        "        plt.show()\n",
        "    else:\n",
        "        print('Param values not allowed!')"
      ]
    },
    {
      "cell_type": "code",
      "execution_count": null,
      "id": "bc92c154-a955-440e-981c-efa3b933a4ee",
      "metadata": {
        "id": "bc92c154-a955-440e-981c-efa3b933a4ee",
        "outputId": "90015d6e-1a0c-4691-b65e-f8907db4b6df"
      },
      "outputs": [
        {
          "name": "stdout",
          "output_type": "stream",
          "text": [
            "Running KNN for dataset size: 10000\n",
            "\t Accuracy for n_neighbour:1 is => 0.7003501750875438\n",
            "\t Accuracy for n_neighbour:2 is => 0.3501750875437719\n",
            "\t Accuracy for n_neighbour:3 is => 0.2001000500250125\n",
            "\t Accuracy for n_neighbour:4 is => 0.3001500750375188\n",
            "\t Accuracy for n_neighbour:5 is => 0.2001000500250125\n",
            "\t Accuracy for n_neighbour:6 is => 0.10005002501250625\n",
            "\t Accuracy for n_neighbour:7 is => 0.0\n",
            "\t Accuracy for n_neighbour:8 is => 0.10005002501250625\n",
            "\t Accuracy for n_neighbour:9 is => 0.1500750375187594\n"
          ]
        },
        {
          "data": {
            "image/png": "[encoded data removed]",
            "text/plain": [
              "<Figure size 432x288 with 1 Axes>"
            ]
          },
          "metadata": {
            "needs_background": "light"
          },
          "output_type": "display_data"
        },
        {
          "name": "stdout",
          "output_type": "stream",
          "text": [
            "Running KNN for dataset size: 15000\n",
            "\t Accuracy for n_neighbour:1 is => 0.9003001000333445\n",
            "\t Accuracy for n_neighbour:2 is => 0.3001000333444481\n",
            "\t Accuracy for n_neighbour:3 is => 0.4334778259419807\n",
            "\t Accuracy for n_neighbour:4 is => 0.46682227409136384\n",
            "\t Accuracy for n_neighbour:5 is => 0.33344448149383127\n",
            "\t Accuracy for n_neighbour:6 is => 0.4334778259419807\n",
            "\t Accuracy for n_neighbour:7 is => 0.33344448149383127\n",
            "\t Accuracy for n_neighbour:8 is => 0.23341113704568192\n",
            "\t Accuracy for n_neighbour:9 is => 0.3001000333444481\n"
          ]
        },
        {
          "data": {
            "image/png": "[encoded data removed]",
            "text/plain": [
              "<Figure size 432x288 with 1 Axes>"
            ]
          },
          "metadata": {
            "needs_background": "light"
          },
          "output_type": "display_data"
        }
      ],
      "source": [
        "train_test_ratio = 0.8\n",
        "data_set_size = [10000, 15000]\n",
        "for size in data_set_size:\n",
        "    runKnnForDataset(size, train_test_ratio)"
      ]
    }
  ],
  "metadata": {
    "kernelspec": {
      "display_name": "Python 3",
      "language": "python",
      "name": "python3"
    },
    "language_info": {
      "codemirror_mode": {
        "name": "ipython",
        "version": 3
      },
      "file_extension": ".py",
      "mimetype": "text/x-python",
      "name": "python",
      "nbconvert_exporter": "python",
      "pygments_lexer": "ipython3",
      "version": "3.8.8"
    },
    "colab": {
      "provenance": [],
      "collapsed_sections": [
        "52779231-d2a8-428d-94c9-dd3f4b299360",
        "ea33f587-f2e7-43a7-8b0f-66d676287a98",
        "870f5d46-d071-409c-a373-a4e1dea1b99c",
        "11679bd8-59ea-4d03-bbf3-fc1d2fb742f7",
        "6ae7ac38-e9d2-471b-9ad5-b3b1cecb0a9a",
        "434346f6-11a2-4d9e-97ac-e41388c82db2"
      ]
    }
  },
  "nbformat": 4,
  "nbformat_minor": 5
}